{
 "cells": [
  {
   "cell_type": "markdown",
   "metadata": {},
   "source": [
    "## Load File"
   ]
  },
  {
   "cell_type": "code",
   "execution_count": 2,
   "metadata": {
    "collapsed": false
   },
   "outputs": [],
   "source": [
    "import pandas as pd\n",
    "data = pd.read_csv('exp1_a.csv')"
   ]
  },
  {
   "cell_type": "code",
   "execution_count": 5,
   "metadata": {
    "collapsed": false
   },
   "outputs": [
    {
     "data": {
      "text/html": [
       "<div>\n",
       "<table border=\"1\" class=\"dataframe\">\n",
       "  <thead>\n",
       "    <tr style=\"text-align: right;\">\n",
       "      <th></th>\n",
       "      <th>Unnamed: 0</th>\n",
       "      <th>X</th>\n",
       "      <th>ppt</th>\n",
       "      <th>dv</th>\n",
       "      <th>qua</th>\n",
       "      <th>dip</th>\n",
       "      <th>dv_dp</th>\n",
       "    </tr>\n",
       "  </thead>\n",
       "  <tbody>\n",
       "    <tr>\n",
       "      <th>143</th>\n",
       "      <td>144</td>\n",
       "      <td>144</td>\n",
       "      <td>11</td>\n",
       "      <td>0.08</td>\n",
       "      <td>3</td>\n",
       "      <td>2</td>\n",
       "      <td>0.143892</td>\n",
       "    </tr>\n",
       "    <tr>\n",
       "      <th>128</th>\n",
       "      <td>129</td>\n",
       "      <td>129</td>\n",
       "      <td>10</td>\n",
       "      <td>0.17</td>\n",
       "      <td>2</td>\n",
       "      <td>2</td>\n",
       "      <td>0.485537</td>\n",
       "    </tr>\n",
       "    <tr>\n",
       "      <th>9</th>\n",
       "      <td>10</td>\n",
       "      <td>10</td>\n",
       "      <td>0</td>\n",
       "      <td>0.16</td>\n",
       "      <td>3</td>\n",
       "      <td>0</td>\n",
       "      <td>0.603226</td>\n",
       "    </tr>\n",
       "    <tr>\n",
       "      <th>23</th>\n",
       "      <td>24</td>\n",
       "      <td>24</td>\n",
       "      <td>1</td>\n",
       "      <td>0.08</td>\n",
       "      <td>3</td>\n",
       "      <td>2</td>\n",
       "      <td>0.143892</td>\n",
       "    </tr>\n",
       "    <tr>\n",
       "      <th>88</th>\n",
       "      <td>89</td>\n",
       "      <td>89</td>\n",
       "      <td>7</td>\n",
       "      <td>0.61</td>\n",
       "      <td>1</td>\n",
       "      <td>1</td>\n",
       "      <td>1.671460</td>\n",
       "    </tr>\n",
       "  </tbody>\n",
       "</table>\n",
       "</div>"
      ],
      "text/plain": [
       "     Unnamed: 0    X  ppt    dv  qua  dip     dv_dp\n",
       "143         144  144   11  0.08    3    2  0.143892\n",
       "128         129  129   10  0.17    2    2  0.485537\n",
       "9            10   10    0  0.16    3    0  0.603226\n",
       "23           24   24    1  0.08    3    2  0.143892\n",
       "88           89   89    7  0.61    1    1  1.671460"
      ]
     },
     "execution_count": 5,
     "metadata": {},
     "output_type": "execute_result"
    }
   ],
   "source": [
    "# choose rows at random for checking\n",
    "data.sample(5)"
   ]
  },
  {
   "cell_type": "markdown",
   "metadata": {},
   "source": [
    "## Missing Values"
   ]
  },
  {
   "cell_type": "code",
   "execution_count": null,
   "metadata": {
    "collapsed": true
   },
   "outputs": [],
   "source": [
    "# how many missing values for the different columns?\n",
    "data_na=data.isnull().sum()"
   ]
  },
  {
   "cell_type": "code",
   "execution_count": null,
   "metadata": {
    "collapsed": true
   },
   "outputs": [],
   "source": [
    "# remove all the rows that contain a missing value\n",
    "data_na=data.dropna()"
   ]
  },
  {
   "cell_type": "code",
   "execution_count": null,
   "metadata": {
    "collapsed": true
   },
   "outputs": [],
   "source": [
    "# remove all columns with at least one missing value\n",
    "data_na=data.dropna(axis=1)"
   ]
  },
  {
   "cell_type": "code",
   "execution_count": 9,
   "metadata": {
    "collapsed": false
   },
   "outputs": [],
   "source": [
    "# replace all NA's with 0\n",
    "data_na=data.fillna(0)"
   ]
  },
  {
   "cell_type": "code",
   "execution_count": 10,
   "metadata": {
    "collapsed": true
   },
   "outputs": [],
   "source": [
    "# imputer fills na's (default: mean)\n",
    "from sklearn.preprocessing import Imputer\n",
    "my_imputer = Imputer()\n",
    "data_na=my_imputer.fit_transform(data)"
   ]
  },
  {
   "cell_type": "code",
   "execution_count": null,
   "metadata": {
    "collapsed": true
   },
   "outputs": [],
   "source": []
  },
  {
   "cell_type": "code",
   "execution_count": null,
   "metadata": {
    "collapsed": true
   },
   "outputs": [],
   "source": []
  },
  {
   "cell_type": "markdown",
   "metadata": {},
   "source": [
    "Ideas"
   ]
  },
  {
   "cell_type": "markdown",
   "metadata": {},
   "source": [
    "Split continuous variable into ranks\n",
    "\n",
    "Dummy coding\n",
    "\n",
    "Working with time/dates\n",
    "\n",
    "Working with strings/regex\n",
    "\n",
    "Assumption checks\n",
    "\n",
    "Ttest/anova\n",
    "\n",
    "Visualisation matplotlib/ggplot2\n",
    "\n",
    "normalisation"
   ]
  }
 ],
 "metadata": {
  "kernelspec": {
   "display_name": "Python 3",
   "language": "python",
   "name": "python3"
  },
  "language_info": {
   "codemirror_mode": {
    "name": "ipython",
    "version": 3
   },
   "file_extension": ".py",
   "mimetype": "text/x-python",
   "name": "python",
   "nbconvert_exporter": "python",
   "pygments_lexer": "ipython3",
   "version": "3.6.0"
  }
 },
 "nbformat": 4,
 "nbformat_minor": 2
}
