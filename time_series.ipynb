{
 "cells": [
  {
   "cell_type": "code",
   "execution_count": 1,
   "metadata": {},
   "outputs": [],
   "source": [
    "import pandas as pd\n",
    "import numpy as np\n",
    "import seaborn as sns\n",
    "import matplotlib.pyplot as plt\n",
    "from sklearn.neighbors import KNeighborsClassifier\n",
    "from sklearn.metrics import classification_report,accuracy_score\n",
    "from sklearn.model_selection import train_test_split,GridSearchCV\n",
    "from sklearn.cluster import KMeans\n",
    "%matplotlib inline"
   ]
  },
  {
   "cell_type": "markdown",
   "metadata": {},
   "source": [
    "## The data set - Energy consumption for selected buildings in Bristol"
   ]
  },
  {
   "cell_type": "markdown",
   "metadata": {},
   "source": [
    "Data taken from:\n",
    "https://data.gov.uk/dataset/1b41eb5c-4b7a-4f60-ae0f-3a78c73953bf/energy-consumption-for-selected-bristol-buildings-from-smart-meters-by-half-hour\n",
    "\n",
    "Published by:\n",
    "    Bristol City Council \n",
    "Last updated:\n",
    "    13 March 2014 \n",
    "Topic:\n",
    "    Environment\n",
    "Licence:\n",
    "    Open Government Licence \n",
    "\n",
    "Summary\n",
    "\n",
    "Energy consumption, Gas and Electricity, for selected Bristol buildings from smart meters by half hour.\n"
   ]
  },
  {
   "cell_type": "code",
   "execution_count": 2,
   "metadata": {},
   "outputs": [],
   "source": [
    "d1 = pd.read_csv('datasets/Building2Gas.csv')\n",
    "d2 = pd.read_csv('datasets/Building3Gas.csv')\n",
    "d3 = pd.read_csv('datasets/Building4Gas.csv')\n",
    "d4 = pd.read_csv('datasets/Building5Gas.csv')"
   ]
  },
  {
   "cell_type": "code",
   "execution_count": 3,
   "metadata": {},
   "outputs": [
    {
     "data": {
      "text/html": [
       "<div>\n",
       "<style scoped>\n",
       "    .dataframe tbody tr th:only-of-type {\n",
       "        vertical-align: middle;\n",
       "    }\n",
       "\n",
       "    .dataframe tbody tr th {\n",
       "        vertical-align: top;\n",
       "    }\n",
       "\n",
       "    .dataframe thead th {\n",
       "        text-align: right;\n",
       "    }\n",
       "</style>\n",
       "<table border=\"1\" class=\"dataframe\">\n",
       "  <thead>\n",
       "    <tr style=\"text-align: right;\">\n",
       "      <th></th>\n",
       "      <th>Building</th>\n",
       "      <th>Utility</th>\n",
       "      <th>Unit</th>\n",
       "      <th>Meter no.</th>\n",
       "      <th>Date</th>\n",
       "      <th>00:30</th>\n",
       "      <th>01:00</th>\n",
       "      <th>01:30</th>\n",
       "      <th>02:00</th>\n",
       "      <th>02:30</th>\n",
       "      <th>...</th>\n",
       "      <th>19:30</th>\n",
       "      <th>20:00</th>\n",
       "      <th>20:30</th>\n",
       "      <th>21:00</th>\n",
       "      <th>21:30</th>\n",
       "      <th>22:00</th>\n",
       "      <th>22:30</th>\n",
       "      <th>23:00</th>\n",
       "      <th>23:30</th>\n",
       "      <th>24:00:00</th>\n",
       "    </tr>\n",
       "  </thead>\n",
       "  <tbody>\n",
       "    <tr>\n",
       "      <th>268</th>\n",
       "      <td>Building 2</td>\n",
       "      <td>Gas</td>\n",
       "      <td>KWh</td>\n",
       "      <td>Meter 1</td>\n",
       "      <td>05/12/2013</td>\n",
       "      <td>0.00</td>\n",
       "      <td>0.0</td>\n",
       "      <td>0.00</td>\n",
       "      <td>0.0</td>\n",
       "      <td>0.00</td>\n",
       "      <td>...</td>\n",
       "      <td>0.00</td>\n",
       "      <td>0.0</td>\n",
       "      <td>0.0</td>\n",
       "      <td>0.00</td>\n",
       "      <td>0.0</td>\n",
       "      <td>0.00</td>\n",
       "      <td>0.00</td>\n",
       "      <td>0.0</td>\n",
       "      <td>0.0</td>\n",
       "      <td>0.00</td>\n",
       "    </tr>\n",
       "    <tr>\n",
       "      <th>224</th>\n",
       "      <td>Building 2</td>\n",
       "      <td>Gas</td>\n",
       "      <td>KWh</td>\n",
       "      <td>Meter 1</td>\n",
       "      <td>21/10/2013</td>\n",
       "      <td>0.00</td>\n",
       "      <td>0.0</td>\n",
       "      <td>0.00</td>\n",
       "      <td>0.0</td>\n",
       "      <td>0.00</td>\n",
       "      <td>...</td>\n",
       "      <td>0.00</td>\n",
       "      <td>0.0</td>\n",
       "      <td>0.0</td>\n",
       "      <td>0.00</td>\n",
       "      <td>0.0</td>\n",
       "      <td>0.00</td>\n",
       "      <td>0.00</td>\n",
       "      <td>0.0</td>\n",
       "      <td>0.0</td>\n",
       "      <td>0.00</td>\n",
       "    </tr>\n",
       "    <tr>\n",
       "      <th>359</th>\n",
       "      <td>Building 2</td>\n",
       "      <td>Gas</td>\n",
       "      <td>KWh</td>\n",
       "      <td>Meter 1</td>\n",
       "      <td>06/03/2014</td>\n",
       "      <td>0.00</td>\n",
       "      <td>0.0</td>\n",
       "      <td>0.00</td>\n",
       "      <td>0.0</td>\n",
       "      <td>33.00</td>\n",
       "      <td>...</td>\n",
       "      <td>0.00</td>\n",
       "      <td>0.0</td>\n",
       "      <td>0.0</td>\n",
       "      <td>0.00</td>\n",
       "      <td>0.0</td>\n",
       "      <td>0.00</td>\n",
       "      <td>0.00</td>\n",
       "      <td>0.0</td>\n",
       "      <td>0.0</td>\n",
       "      <td>0.00</td>\n",
       "    </tr>\n",
       "    <tr>\n",
       "      <th>48</th>\n",
       "      <td>Building 2</td>\n",
       "      <td>Gas</td>\n",
       "      <td>KWh</td>\n",
       "      <td>Meter 1</td>\n",
       "      <td>26/04/2013</td>\n",
       "      <td>31.13</td>\n",
       "      <td>0.0</td>\n",
       "      <td>31.13</td>\n",
       "      <td>0.0</td>\n",
       "      <td>31.13</td>\n",
       "      <td>...</td>\n",
       "      <td>31.13</td>\n",
       "      <td>0.0</td>\n",
       "      <td>0.0</td>\n",
       "      <td>31.13</td>\n",
       "      <td>0.0</td>\n",
       "      <td>0.00</td>\n",
       "      <td>31.13</td>\n",
       "      <td>0.0</td>\n",
       "      <td>0.0</td>\n",
       "      <td>31.13</td>\n",
       "    </tr>\n",
       "    <tr>\n",
       "      <th>3</th>\n",
       "      <td>Building 2</td>\n",
       "      <td>Gas</td>\n",
       "      <td>KWh</td>\n",
       "      <td>Meter 1</td>\n",
       "      <td>12/03/2013</td>\n",
       "      <td>0.00</td>\n",
       "      <td>0.0</td>\n",
       "      <td>31.13</td>\n",
       "      <td>0.0</td>\n",
       "      <td>62.26</td>\n",
       "      <td>...</td>\n",
       "      <td>0.00</td>\n",
       "      <td>0.0</td>\n",
       "      <td>0.0</td>\n",
       "      <td>0.00</td>\n",
       "      <td>0.0</td>\n",
       "      <td>31.13</td>\n",
       "      <td>0.00</td>\n",
       "      <td>0.0</td>\n",
       "      <td>0.0</td>\n",
       "      <td>0.00</td>\n",
       "    </tr>\n",
       "  </tbody>\n",
       "</table>\n",
       "<p>5 rows × 53 columns</p>\n",
       "</div>"
      ],
      "text/plain": [
       "       Building Utility Unit Meter no.        Date  00:30  01:00  01:30  \\\n",
       "268  Building 2     Gas  KWh   Meter 1  05/12/2013   0.00    0.0   0.00   \n",
       "224  Building 2     Gas  KWh   Meter 1  21/10/2013   0.00    0.0   0.00   \n",
       "359  Building 2     Gas  KWh   Meter 1  06/03/2014   0.00    0.0   0.00   \n",
       "48   Building 2     Gas  KWh   Meter 1  26/04/2013  31.13    0.0  31.13   \n",
       "3    Building 2     Gas  KWh   Meter 1  12/03/2013   0.00    0.0  31.13   \n",
       "\n",
       "     02:00  02:30    ...     19:30  20:00  20:30  21:00  21:30  22:00  22:30  \\\n",
       "268    0.0   0.00    ...      0.00    0.0    0.0   0.00    0.0   0.00   0.00   \n",
       "224    0.0   0.00    ...      0.00    0.0    0.0   0.00    0.0   0.00   0.00   \n",
       "359    0.0  33.00    ...      0.00    0.0    0.0   0.00    0.0   0.00   0.00   \n",
       "48     0.0  31.13    ...     31.13    0.0    0.0  31.13    0.0   0.00  31.13   \n",
       "3      0.0  62.26    ...      0.00    0.0    0.0   0.00    0.0  31.13   0.00   \n",
       "\n",
       "     23:00  23:30  24:00:00  \n",
       "268    0.0    0.0      0.00  \n",
       "224    0.0    0.0      0.00  \n",
       "359    0.0    0.0      0.00  \n",
       "48     0.0    0.0     31.13  \n",
       "3      0.0    0.0      0.00  \n",
       "\n",
       "[5 rows x 53 columns]"
      ]
     },
     "execution_count": 3,
     "metadata": {},
     "output_type": "execute_result"
    }
   ],
   "source": [
    "d1.sample(5)"
   ]
  },
  {
   "cell_type": "code",
   "execution_count": 4,
   "metadata": {},
   "outputs": [
    {
     "data": {
      "text/html": [
       "<div>\n",
       "<style scoped>\n",
       "    .dataframe tbody tr th:only-of-type {\n",
       "        vertical-align: middle;\n",
       "    }\n",
       "\n",
       "    .dataframe tbody tr th {\n",
       "        vertical-align: top;\n",
       "    }\n",
       "\n",
       "    .dataframe thead th {\n",
       "        text-align: right;\n",
       "    }\n",
       "</style>\n",
       "<table border=\"1\" class=\"dataframe\">\n",
       "  <thead>\n",
       "    <tr style=\"text-align: right;\">\n",
       "      <th></th>\n",
       "      <th>target</th>\n",
       "      <th>00:30</th>\n",
       "      <th>01:00</th>\n",
       "      <th>01:30</th>\n",
       "      <th>02:00</th>\n",
       "      <th>02:30</th>\n",
       "      <th>03:00</th>\n",
       "      <th>03:30</th>\n",
       "      <th>04:00</th>\n",
       "      <th>04:30</th>\n",
       "      <th>...</th>\n",
       "      <th>19:30</th>\n",
       "      <th>20:00</th>\n",
       "      <th>20:30</th>\n",
       "      <th>21:00</th>\n",
       "      <th>21:30</th>\n",
       "      <th>22:00</th>\n",
       "      <th>22:30</th>\n",
       "      <th>23:00</th>\n",
       "      <th>23:30</th>\n",
       "      <th>24:00:00</th>\n",
       "    </tr>\n",
       "  </thead>\n",
       "  <tbody>\n",
       "    <tr>\n",
       "      <th>690</th>\n",
       "      <td>1</td>\n",
       "      <td>22.0</td>\n",
       "      <td>44.0</td>\n",
       "      <td>22.0</td>\n",
       "      <td>22.0</td>\n",
       "      <td>55.0</td>\n",
       "      <td>33.0</td>\n",
       "      <td>22.0</td>\n",
       "      <td>33.0</td>\n",
       "      <td>22.0</td>\n",
       "      <td>...</td>\n",
       "      <td>22.0</td>\n",
       "      <td>33.0</td>\n",
       "      <td>33.0</td>\n",
       "      <td>33.0</td>\n",
       "      <td>22.0</td>\n",
       "      <td>33.0</td>\n",
       "      <td>33.0</td>\n",
       "      <td>44.0</td>\n",
       "      <td>22.0</td>\n",
       "      <td>33.0</td>\n",
       "    </tr>\n",
       "    <tr>\n",
       "      <th>436</th>\n",
       "      <td>1</td>\n",
       "      <td>0.0</td>\n",
       "      <td>0.0</td>\n",
       "      <td>0.0</td>\n",
       "      <td>0.0</td>\n",
       "      <td>0.0</td>\n",
       "      <td>0.0</td>\n",
       "      <td>0.0</td>\n",
       "      <td>0.0</td>\n",
       "      <td>0.0</td>\n",
       "      <td>...</td>\n",
       "      <td>0.0</td>\n",
       "      <td>0.0</td>\n",
       "      <td>0.0</td>\n",
       "      <td>0.0</td>\n",
       "      <td>0.0</td>\n",
       "      <td>0.0</td>\n",
       "      <td>0.0</td>\n",
       "      <td>0.0</td>\n",
       "      <td>0.0</td>\n",
       "      <td>0.0</td>\n",
       "    </tr>\n",
       "    <tr>\n",
       "      <th>258</th>\n",
       "      <td>0</td>\n",
       "      <td>0.0</td>\n",
       "      <td>0.0</td>\n",
       "      <td>0.0</td>\n",
       "      <td>0.0</td>\n",
       "      <td>0.0</td>\n",
       "      <td>0.0</td>\n",
       "      <td>0.0</td>\n",
       "      <td>0.0</td>\n",
       "      <td>0.0</td>\n",
       "      <td>...</td>\n",
       "      <td>0.0</td>\n",
       "      <td>0.0</td>\n",
       "      <td>0.0</td>\n",
       "      <td>0.0</td>\n",
       "      <td>0.0</td>\n",
       "      <td>0.0</td>\n",
       "      <td>0.0</td>\n",
       "      <td>0.0</td>\n",
       "      <td>0.0</td>\n",
       "      <td>0.0</td>\n",
       "    </tr>\n",
       "    <tr>\n",
       "      <th>648</th>\n",
       "      <td>1</td>\n",
       "      <td>44.0</td>\n",
       "      <td>22.0</td>\n",
       "      <td>44.0</td>\n",
       "      <td>11.0</td>\n",
       "      <td>33.0</td>\n",
       "      <td>22.0</td>\n",
       "      <td>44.0</td>\n",
       "      <td>33.0</td>\n",
       "      <td>22.0</td>\n",
       "      <td>...</td>\n",
       "      <td>11.0</td>\n",
       "      <td>44.0</td>\n",
       "      <td>33.0</td>\n",
       "      <td>33.0</td>\n",
       "      <td>33.0</td>\n",
       "      <td>33.0</td>\n",
       "      <td>22.0</td>\n",
       "      <td>55.0</td>\n",
       "      <td>22.0</td>\n",
       "      <td>55.0</td>\n",
       "    </tr>\n",
       "    <tr>\n",
       "      <th>1012</th>\n",
       "      <td>2</td>\n",
       "      <td>0.0</td>\n",
       "      <td>0.0</td>\n",
       "      <td>0.0</td>\n",
       "      <td>0.0</td>\n",
       "      <td>0.0</td>\n",
       "      <td>66.0</td>\n",
       "      <td>143.0</td>\n",
       "      <td>66.0</td>\n",
       "      <td>66.0</td>\n",
       "      <td>...</td>\n",
       "      <td>0.0</td>\n",
       "      <td>0.0</td>\n",
       "      <td>0.0</td>\n",
       "      <td>0.0</td>\n",
       "      <td>0.0</td>\n",
       "      <td>0.0</td>\n",
       "      <td>0.0</td>\n",
       "      <td>0.0</td>\n",
       "      <td>0.0</td>\n",
       "      <td>0.0</td>\n",
       "    </tr>\n",
       "  </tbody>\n",
       "</table>\n",
       "<p>5 rows × 49 columns</p>\n",
       "</div>"
      ],
      "text/plain": [
       "      target  00:30  01:00  01:30  02:00  02:30  03:00  03:30  04:00  04:30  \\\n",
       "690        1   22.0   44.0   22.0   22.0   55.0   33.0   22.0   33.0   22.0   \n",
       "436        1    0.0    0.0    0.0    0.0    0.0    0.0    0.0    0.0    0.0   \n",
       "258        0    0.0    0.0    0.0    0.0    0.0    0.0    0.0    0.0    0.0   \n",
       "648        1   44.0   22.0   44.0   11.0   33.0   22.0   44.0   33.0   22.0   \n",
       "1012       2    0.0    0.0    0.0    0.0    0.0   66.0  143.0   66.0   66.0   \n",
       "\n",
       "        ...     19:30  20:00  20:30  21:00  21:30  22:00  22:30  23:00  23:30  \\\n",
       "690     ...      22.0   33.0   33.0   33.0   22.0   33.0   33.0   44.0   22.0   \n",
       "436     ...       0.0    0.0    0.0    0.0    0.0    0.0    0.0    0.0    0.0   \n",
       "258     ...       0.0    0.0    0.0    0.0    0.0    0.0    0.0    0.0    0.0   \n",
       "648     ...      11.0   44.0   33.0   33.0   33.0   33.0   22.0   55.0   22.0   \n",
       "1012    ...       0.0    0.0    0.0    0.0    0.0    0.0    0.0    0.0    0.0   \n",
       "\n",
       "      24:00:00  \n",
       "690       33.0  \n",
       "436        0.0  \n",
       "258        0.0  \n",
       "648       55.0  \n",
       "1012       0.0  \n",
       "\n",
       "[5 rows x 49 columns]"
      ]
     },
     "execution_count": 4,
     "metadata": {},
     "output_type": "execute_result"
    }
   ],
   "source": [
    "data = (pd.concat([d1,d2,d3,d4],ignore_index=True)\n",
    "            .drop(['Utility','Unit','Meter no.','Date'],axis=1)\n",
    "            .rename(columns={'Building':'target'})\n",
    "       )\n",
    "d=dict(zip(np.unique(data['target']),range(len(np.unique(data['target'])))))\n",
    "data['target']=data['target'].apply(lambda x: d[x])\n",
    "\n",
    "data.sample(5)"
   ]
  },
  {
   "cell_type": "code",
   "execution_count": 5,
   "metadata": {},
   "outputs": [
    {
     "name": "stdout",
     "output_type": "stream",
     "text": [
      "X: (1444, 48) y: (1444,)\n"
     ]
    }
   ],
   "source": [
    "X = data[data.columns[1:]]\n",
    "y = data['target']\n",
    "print('X:',X.shape,'y:',y.shape)"
   ]
  },
  {
   "cell_type": "code",
   "execution_count": 6,
   "metadata": {},
   "outputs": [
    {
     "data": {
      "text/plain": [
       "(array([693596.   , 693596.125, 693596.25 , 693596.375, 693596.5  ,\n",
       "        693596.625, 693596.75 , 693596.875, 693597.   ]),\n",
       " <a list of 9 Text xticklabel objects>)"
      ]
     },
     "execution_count": 6,
     "metadata": {},
     "output_type": "execute_result"
    },
    {
     "data": {
      "image/png": "[encoded data removed]",
      "text/plain": [
       "<Figure size 432x288 with 1 Axes>"
      ]
     },
     "metadata": {},
     "output_type": "display_data"
    }
   ],
   "source": [
    "from datetime import datetime\n",
    "import time\n",
    "import matplotlib.dates as mdates\n",
    "\n",
    "t = pd.Series(X.T.index).apply(lambda x: datetime.strptime(x,\"%H:%M\") if len(x)<6 else datetime.strptime('1900-01-02 00:00',\"%Y-%m-%d %H:%M\"))\n",
    "\n",
    "ax = plt.subplot(111)\n",
    "ax.plot(t,X.T)\n",
    "ax.xaxis.set_major_formatter(mdates.DateFormatter('%H:%M'))\n",
    "#ax.xaxis.set_major_locator(mdates.MinuteLocator(interval=60))\n",
    "plt.xticks(rotation=90)"
   ]
  },
  {
   "cell_type": "code",
   "execution_count": 7,
   "metadata": {},
   "outputs": [
    {
     "data": {
      "image/png": "[encoded data removed]",
      "text/plain": [
       "<Figure size 432x288 with 1 Axes>"
      ]
     },
     "metadata": {},
     "output_type": "display_data"
    }
   ],
   "source": [
    "ax = plt.subplot(111)\n",
    "ax.plot(t,X.T.mean(axis=1))\n",
    "ax.xaxis.set_major_formatter(mdates.DateFormatter('%H:%M'))\n",
    "ax.xaxis.set_major_locator(mdates.HourLocator(interval=1))\n",
    "plt.xticks(rotation=90);"
   ]
  },
  {
   "cell_type": "markdown",
   "metadata": {},
   "source": [
    "## Extracting features from time series - kNN with Sklearn"
   ]
  },
  {
   "cell_type": "code",
   "execution_count": 8,
   "metadata": {},
   "outputs": [
    {
     "data": {
      "text/html": [
       "<div>\n",
       "<style scoped>\n",
       "    .dataframe tbody tr th:only-of-type {\n",
       "        vertical-align: middle;\n",
       "    }\n",
       "\n",
       "    .dataframe tbody tr th {\n",
       "        vertical-align: top;\n",
       "    }\n",
       "\n",
       "    .dataframe thead th {\n",
       "        text-align: right;\n",
       "    }\n",
       "</style>\n",
       "<table border=\"1\" class=\"dataframe\">\n",
       "  <thead>\n",
       "    <tr style=\"text-align: right;\">\n",
       "      <th></th>\n",
       "      <th>mean</th>\n",
       "      <th>std</th>\n",
       "      <th>min</th>\n",
       "      <th>25%</th>\n",
       "      <th>50%</th>\n",
       "      <th>75%</th>\n",
       "      <th>max</th>\n",
       "    </tr>\n",
       "  </thead>\n",
       "  <tbody>\n",
       "    <tr>\n",
       "      <th>0</th>\n",
       "      <td>0.648542</td>\n",
       "      <td>4.493228</td>\n",
       "      <td>0.0</td>\n",
       "      <td>0.0</td>\n",
       "      <td>0.00</td>\n",
       "      <td>0.0000</td>\n",
       "      <td>31.13</td>\n",
       "    </tr>\n",
       "    <tr>\n",
       "      <th>1</th>\n",
       "      <td>5.836875</td>\n",
       "      <td>12.279004</td>\n",
       "      <td>0.0</td>\n",
       "      <td>0.0</td>\n",
       "      <td>0.00</td>\n",
       "      <td>0.0000</td>\n",
       "      <td>31.13</td>\n",
       "    </tr>\n",
       "    <tr>\n",
       "      <th>2</th>\n",
       "      <td>158.892708</td>\n",
       "      <td>207.612316</td>\n",
       "      <td>0.0</td>\n",
       "      <td>0.0</td>\n",
       "      <td>31.13</td>\n",
       "      <td>217.9100</td>\n",
       "      <td>622.60</td>\n",
       "    </tr>\n",
       "    <tr>\n",
       "      <th>3</th>\n",
       "      <td>112.197708</td>\n",
       "      <td>162.676419</td>\n",
       "      <td>0.0</td>\n",
       "      <td>0.0</td>\n",
       "      <td>31.13</td>\n",
       "      <td>163.4325</td>\n",
       "      <td>684.86</td>\n",
       "    </tr>\n",
       "    <tr>\n",
       "      <th>4</th>\n",
       "      <td>64.205625</td>\n",
       "      <td>112.407166</td>\n",
       "      <td>0.0</td>\n",
       "      <td>0.0</td>\n",
       "      <td>31.13</td>\n",
       "      <td>70.0425</td>\n",
       "      <td>591.47</td>\n",
       "    </tr>\n",
       "  </tbody>\n",
       "</table>\n",
       "</div>"
      ],
      "text/plain": [
       "         mean         std  min  25%    50%       75%     max\n",
       "0    0.648542    4.493228  0.0  0.0   0.00    0.0000   31.13\n",
       "1    5.836875   12.279004  0.0  0.0   0.00    0.0000   31.13\n",
       "2  158.892708  207.612316  0.0  0.0  31.13  217.9100  622.60\n",
       "3  112.197708  162.676419  0.0  0.0  31.13  163.4325  684.86\n",
       "4   64.205625  112.407166  0.0  0.0  31.13   70.0425  591.47"
      ]
     },
     "execution_count": 8,
     "metadata": {},
     "output_type": "execute_result"
    }
   ],
   "source": [
    "Xf = pd.DataFrame(data = X.T.describe().T,index=X.index)\n",
    "Xf = Xf.drop(['count'],axis=1)\n",
    "Xf.head()"
   ]
  },
  {
   "cell_type": "code",
   "execution_count": 9,
   "metadata": {},
   "outputs": [
    {
     "name": "stdout",
     "output_type": "stream",
     "text": [
      "{'n_neighbors': 6}\n",
      "             precision    recall  f1-score   support\n",
      "\n",
      "          0       0.93      0.60      0.73        72\n",
      "          1       0.80      0.62      0.70        73\n",
      "          2       0.56      0.89      0.68        72\n",
      "          3       0.93      0.93      0.93        72\n",
      "\n",
      "avg / total       0.81      0.76      0.76       289\n",
      "\n"
     ]
    }
   ],
   "source": [
    "x_train,x_test,y_train,y_test=train_test_split(Xf,y,test_size=0.2,stratify=y,random_state=23)\n",
    "\n",
    "param={'n_neighbors':[1,4,6,10]}\n",
    "clf = GridSearchCV(KNeighborsClassifier(),param,cv=5)\n",
    "clf.fit(x_train, y_train)\n",
    "y_true,y_pred=y_test,clf.predict(x_test)\n",
    "print(clf.best_params_)\n",
    "print(classification_report(y_true,y_pred))"
   ]
  },
  {
   "cell_type": "markdown",
   "metadata": {},
   "source": [
    "## Whole time series - kNN with DTW"
   ]
  },
  {
   "cell_type": "code",
   "execution_count": 130,
   "metadata": {},
   "outputs": [],
   "source": [
    "x_train,x_test,y_train,y_test=train_test_split(Xf,y,test_size=0.2,stratify=y,random_state=23)\n",
    "\n",
    "def dtw(s1,s2,param):\n",
    "    'distance between 2 time series (Dynamic Time Warping)'\n",
    "    \n",
    "    # placeholder for testing knn()\n",
    "    dist=abs(s1-s2)\n",
    "    \n",
    "    return dist\n",
    "\n",
    "def get_n(xtest,xtrain):\n",
    "    'get matrix of distances of test (row) to train (column) set'\n",
    "    nn = np.empty((len(xtest),len(xtrain)))\n",
    "    for i in range(len(xtest)):\n",
    "        for j in range(len(xtrain)):\n",
    "            nn[i,j] = dtw(xtest[i],xtrain[j],'placeholder')\n",
    "    return nn\n",
    "\n",
    "def knn(xtest,xtrain,ytrain,k):\n",
    "    codey =dict(zip(np.unique(ytrain),np.arange(len(np.unique(ytrain)))))\n",
    "    ytrain = [codey[i] for i in ytrain]\n",
    "    nn = get_n(xtest,xtrain) # all neighbours\n",
    "    knn = np.argsort(nn)[:,:k] # indices of knns (no care for ties)\n",
    "    yarr = np.matlib.repmat(ytrain,len(xtest),1) # array of corresponding y values\n",
    "    ynn = np.array([np.take(yarr[i,:], knn_i[i,:]) for i in range(xtest)]) # categories of knn\n",
    "    return ynn"
   ]
  },
  {
   "cell_type": "code",
   "execution_count": 128,
   "metadata": {},
   "outputs": [
    {
     "data": {
      "text/plain": [
       "array([[1, 0],\n",
       "       [1, 0],\n",
       "       [1, 0],\n",
       "       [0, 0]])"
      ]
     },
     "execution_count": 128,
     "metadata": {},
     "output_type": "execute_result"
    }
   ],
   "source": [
    "knn(xtest,xtrain,ytrain,k):\n",
    "    codey =dict(zip(np.unique(ytrain),np.arange(len(np.unique(ytrain)))))\n",
    "    ytrain = [codey[i] for i in ytrain]\n",
    "    nn = get_n(xtest,xtrain) # all neighbours\n",
    "    knn = np.argsort(nn)[:,:k] # indices of knns (no care for ties)\n",
    "    yarr = np.matlib.repmat(ytrain,len(xtest),1) # array of corresponding y values\n",
    "    ynn = np.array([np.take(yarr[i,:], knn_i[i,:]) for i in range(xtest)]) # categories of knn\n",
    "    return ynn"
   ]
  },
  {
   "cell_type": "code",
   "execution_count": 112,
   "metadata": {},
   "outputs": [
    {
     "name": "stdout",
     "output_type": "stream",
     "text": [
      "[1 1]\n",
      "[1 1]\n",
      "[1 1]\n",
      "[2]\n"
     ]
    }
   ],
   "source": [
    "for i in range(len(xtest)):\n",
    "    classfreq = np.bincount(ynn[i,:])\n",
    "    winner = np.argmax(classfreq)\n",
    "    [i if classfreq[[winner,:]]==i for i in \n"
   ]
  },
  {
   "cell_type": "markdown",
   "metadata": {},
   "source": [
    "## Clustering - kmeans sklearn"
   ]
  },
  {
   "cell_type": "code",
   "execution_count": 10,
   "metadata": {},
   "outputs": [
    {
     "data": {
      "text/plain": [
       "KMeans(algorithm='auto', copy_x=True, init='k-means++', max_iter=300,\n",
       "    n_clusters=4, n_init=10, n_jobs=1, precompute_distances='auto',\n",
       "    random_state=None, tol=0.0001, verbose=0)"
      ]
     },
     "execution_count": 10,
     "metadata": {},
     "output_type": "execute_result"
    }
   ],
   "source": [
    "clu = KMeans(n_clusters=4)\n",
    "clu.fit(Xf)"
   ]
  },
  {
   "cell_type": "code",
   "execution_count": 11,
   "metadata": {},
   "outputs": [
    {
     "name": "stdout",
     "output_type": "stream",
     "text": [
      "Label 0: Counter({0: 175, 3: 91, 2: 85, 1: 9})\n",
      "Label 1: Counter({0: 203, 1: 160})\n",
      "Label 2: Counter({1: 203, 0: 157, 3: 2})\n",
      "Label 3: Counter({0: 338, 1: 21})\n"
     ]
    }
   ],
   "source": [
    "from collections import Counter\n",
    "print('Label 0:',Counter(clu.predict(Xf[y==0])))\n",
    "print('Label 1:',Counter(clu.predict(Xf[y==1])))\n",
    "print('Label 2:',Counter(clu.predict(Xf[y==2])))\n",
    "print('Label 3:',Counter(clu.predict(Xf[y==3])))"
   ]
  },
  {
   "cell_type": "markdown",
   "metadata": {},
   "source": [
    "## Clustering - kmeans and DTW"
   ]
  },
  {
   "cell_type": "code",
   "execution_count": null,
   "metadata": {},
   "outputs": [],
   "source": []
  },
  {
   "cell_type": "code",
   "execution_count": null,
   "metadata": {
    "collapsed": true
   },
   "outputs": [],
   "source": [
    "def dtw(s1,s2,param):\n",
    "    \n",
    "    return dist\n",
    "dd\n",
    "# gen centr.\n"
   ]
  }
 ],
 "metadata": {
  "kernelspec": {
   "display_name": "Python 3",
   "language": "python",
   "name": "python3"
  },
  "language_info": {
   "codemirror_mode": {
    "name": "ipython",
    "version": 3
   },
   "file_extension": ".py",
   "mimetype": "text/x-python",
   "name": "python",
   "nbconvert_exporter": "python",
   "pygments_lexer": "ipython3",
   "version": "3.6.5"
  }
 },
 "nbformat": 4,
 "nbformat_minor": 2
}
