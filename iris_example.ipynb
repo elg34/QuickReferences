{
 "cells": [
  {
   "cell_type": "code",
   "execution_count": 25,
   "metadata": {},
   "outputs": [],
   "source": [
    "import pandas as pd\n",
    "import numpy as np\n",
    "from sklearn import datasets\n",
    "\n",
    "data = pd.DataFrame(data=datasets.load_iris().data, columns=['seplen','sepwid','petlen','petwid'])\n",
    "data['target']=datasets.load_iris().target\n"
   ]
  },
  {
   "cell_type": "code",
   "execution_count": null,
   "metadata": {},
   "outputs": [],
   "source": [
    "from pandas.plotting import scatter_matrix\n",
    "\n",
    "scatter_matrix(data)"
   ]
  },
  {
   "cell_type": "code",
   "execution_count": null,
   "metadata": {},
   "outputs": [],
   "source": [
    "data.isnull().sum()"
   ]
  },
  {
   "cell_type": "code",
   "execution_count": null,
   "metadata": {},
   "outputs": [],
   "source": [
    "data.groupby('target').count()"
   ]
  },
  {
   "cell_type": "code",
   "execution_count": 11,
   "metadata": {},
   "outputs": [],
   "source": [
    "from sklearn.model_selection import train_test_split\n",
    "\n",
    "x_train, x_test, y_train, y_test = train_test_split(data[data.columns[:-1]],data['target'],test_size=0.2,random_state=23,stratify=data['target'])\n",
    "\n",
    "from sklearn.preprocessing import StandardScaler\n",
    "\n",
    "scal = StandardScaler()\n",
    "x_train = scal.fit_transform(x_train)\n",
    "x_test = scal.transform(x_test)"
   ]
  },
  {
   "cell_type": "code",
   "execution_count": 12,
   "metadata": {},
   "outputs": [],
   "source": [
    "from sklearn.svm import SVC\n",
    "\n",
    "clf = SVC()\n",
    "clf.fit(x_train,y_train)\n",
    "y_pred = clf.predict(x_test)"
   ]
  },
  {
   "cell_type": "code",
   "execution_count": 15,
   "metadata": {},
   "outputs": [
    {
     "name": "stdout",
     "output_type": "stream",
     "text": [
      "             precision    recall  f1-score   support\n",
      "\n",
      "          0       1.00      1.00      1.00        10\n",
      "          1       1.00      1.00      1.00        10\n",
      "          2       1.00      1.00      1.00        10\n",
      "\n",
      "avg / total       1.00      1.00      1.00        30\n",
      "\n",
      "1.0\n"
     ]
    }
   ],
   "source": [
    "from sklearn.metrics import classification_report, accuracy_score\n",
    "\n",
    "print(classification_report(y_test,y_pred))\n",
    "print(accuracy_score(y_test,y_pred))"
   ]
  },
  {
   "cell_type": "code",
   "execution_count": 24,
   "metadata": {},
   "outputs": [
    {
     "name": "stdout",
     "output_type": "stream",
     "text": [
      "{'C': 1}\n",
      "             precision    recall  f1-score   support\n",
      "\n",
      "          0       1.00      1.00      1.00        10\n",
      "          1       1.00      1.00      1.00        10\n",
      "          2       1.00      1.00      1.00        10\n",
      "\n",
      "avg / total       1.00      1.00      1.00        30\n",
      "\n"
     ]
    },
    {
     "data": {
      "text/plain": [
       "1.0"
      ]
     },
     "execution_count": 24,
     "metadata": {},
     "output_type": "execute_result"
    }
   ],
   "source": [
    "from sklearn.model_selection import GridSearchCV\n",
    "\n",
    "parameters = {'C': [0.01,0.1,1,10]}\n",
    "clf = GridSearchCV(SVC(),parameters,cv=5)\n",
    "clf.fit(x_train,y_train)\n",
    "print(clf.best_params_)\n",
    "y_true,y_pred=y_test,clf.predict(x_test)\n",
    "print(classification_report(y_true,y_pred))\n",
    "accuracy_score(y_true,y_pred)"
   ]
  },
  {
   "cell_type": "code",
   "execution_count": 35,
   "metadata": {},
   "outputs": [
    {
     "name": "stdout",
     "output_type": "stream",
     "text": [
      "[-0.22178881  0.2363588   0.52710905]\n"
     ]
    },
    {
     "data": {
      "text/plain": [
       "<matplotlib.collections.PathCollection at 0xc11e3c8>"
      ]
     },
     "execution_count": 35,
     "metadata": {},
     "output_type": "execute_result"
    },
    {
     "data": {
      "image/png": "[encoded data removed]",
      "text/plain": [
       "<Figure size 432x288 with 1 Axes>"
      ]
     },
     "metadata": {},
     "output_type": "display_data"
    }
   ],
   "source": [
    "x_train,x_test,y_train,y_test = train_test_split(data[data.columns[0:3]],data[data.columns[3]],test_size=0.2,random_state=23)\n",
    "\n",
    "from sklearn.linear_model import LinearRegression\n",
    "\n",
    "clf = LinearRegression()\n",
    "clf.fit(x_train,y_train)\n",
    "print(clf.coef_)\n",
    "y_true,y_pred = y_test,clf.predict(x_test)\n",
    "\n",
    "import matplotlib.pyplot as plt\n",
    "plt.scatter(y_true,y_pred)"
   ]
  },
  {
   "cell_type": "code",
   "execution_count": 82,
   "metadata": {},
   "outputs": [],
   "source": [
    "from keras.models import Sequential\n",
    "from keras.layers import Dense\n",
    "from keras.layers import Dropout\n",
    "from keras.utils import to_categorical\n",
    "\n",
    "\n",
    "x_train, x_test, y_train, y_test = train_test_split(data[data.columns[:-1]],data['target'],test_size=0.2,random_state=23,stratify=data['target'])\n",
    "y_train = to_categorical(y_train, num_classes=len(set(data['target'])))\n",
    "y_test = to_categorical(y_test, num_classes=len(set(data['target'])))\n",
    "scal = StandardScaler()\n",
    "x_train = scal.fit_transform(x_train)\n",
    "x_test = scal.transform(x_test)\n",
    "          \n",
    "model = Sequential()\n",
    "model.add(Dense(64, activation='sigmoid', input_dim=x_train.shape[1]))\n",
    "model.add(Dense(len(set(data['target'])), activation='softmax'))\n",
    "model.compile(optimizer='rmsprop',loss='categorical_crossentropy',metrics=['accuracy'])"
   ]
  },
  {
   "cell_type": "code",
   "execution_count": 80,
   "metadata": {},
   "outputs": [
    {
     "name": "stdout",
     "output_type": "stream",
     "text": [
      "Epoch 1/100\n",
      "120/120 [==============================] - 0s 3ms/step - loss: 0.7789 - acc: 0.5556\n",
      "Epoch 2/100\n",
      "120/120 [==============================] - 0s 42us/step - loss: 0.6954 - acc: 0.5556\n",
      "Epoch 3/100\n",
      "120/120 [==============================] - 0s 42us/step - loss: 0.6561 - acc: 0.5806\n",
      "Epoch 4/100\n",
      "120/120 [==============================] - 0s 42us/step - loss: 0.6313 - acc: 0.6667\n",
      "Epoch 5/100\n",
      "120/120 [==============================] - 0s 42us/step - loss: 0.6124 - acc: 0.6667\n",
      "Epoch 6/100\n",
      "120/120 [==============================] - 0s 42us/step - loss: 0.5982 - acc: 0.6667\n",
      "Epoch 7/100\n",
      "120/120 [==============================] - 0s 42us/step - loss: 0.5822 - acc: 0.6667\n",
      "Epoch 8/100\n",
      "120/120 [==============================] - 0s 42us/step - loss: 0.5725 - acc: 0.6667\n",
      "Epoch 9/100\n",
      "120/120 [==============================] - 0s 42us/step - loss: 0.5593 - acc: 0.6667\n",
      "Epoch 10/100\n",
      "120/120 [==============================] - 0s 42us/step - loss: 0.5499 - acc: 0.6694\n",
      "Epoch 11/100\n",
      "120/120 [==============================] - 0s 42us/step - loss: 0.5375 - acc: 0.6889\n",
      "Epoch 12/100\n",
      "120/120 [==============================] - 0s 50us/step - loss: 0.5275 - acc: 0.7083\n",
      "Epoch 13/100\n",
      "120/120 [==============================] - 0s 42us/step - loss: 0.5173 - acc: 0.7556\n",
      "Epoch 14/100\n",
      "120/120 [==============================] - 0s 42us/step - loss: 0.5072 - acc: 0.7667\n",
      "Epoch 15/100\n",
      "120/120 [==============================] - 0s 42us/step - loss: 0.4970 - acc: 0.7750\n",
      "Epoch 16/100\n",
      "120/120 [==============================] - 0s 42us/step - loss: 0.4870 - acc: 0.7833\n",
      "Epoch 17/100\n",
      "120/120 [==============================] - 0s 42us/step - loss: 0.4787 - acc: 0.7778\n",
      "Epoch 18/100\n",
      "120/120 [==============================] - 0s 42us/step - loss: 0.4678 - acc: 0.7944\n",
      "Epoch 19/100\n",
      "120/120 [==============================] - 0s 50us/step - loss: 0.4584 - acc: 0.8028\n",
      "Epoch 20/100\n",
      "120/120 [==============================] - 0s 33us/step - loss: 0.4496 - acc: 0.8000\n",
      "Epoch 21/100\n",
      "120/120 [==============================] - 0s 42us/step - loss: 0.4405 - acc: 0.8250\n",
      "Epoch 22/100\n",
      "120/120 [==============================] - 0s 42us/step - loss: 0.4320 - acc: 0.8389\n",
      "Epoch 23/100\n",
      "120/120 [==============================] - 0s 50us/step - loss: 0.4239 - acc: 0.8333\n",
      "Epoch 24/100\n",
      "120/120 [==============================] - 0s 50us/step - loss: 0.4160 - acc: 0.8306\n",
      "Epoch 25/100\n",
      "120/120 [==============================] - 0s 42us/step - loss: 0.4092 - acc: 0.8444\n",
      "Epoch 26/100\n",
      "120/120 [==============================] - 0s 50us/step - loss: 0.4015 - acc: 0.8500\n",
      "Epoch 27/100\n",
      "120/120 [==============================] - 0s 33us/step - loss: 0.3935 - acc: 0.8556\n",
      "Epoch 28/100\n",
      "120/120 [==============================] - 0s 42us/step - loss: 0.3867 - acc: 0.8472\n",
      "Epoch 29/100\n",
      "120/120 [==============================] - 0s 42us/step - loss: 0.3804 - acc: 0.8528\n",
      "Epoch 30/100\n",
      "120/120 [==============================] - 0s 50us/step - loss: 0.3743 - acc: 0.8528\n",
      "Epoch 31/100\n",
      "120/120 [==============================] - 0s 42us/step - loss: 0.3672 - acc: 0.8556\n",
      "Epoch 32/100\n",
      "120/120 [==============================] - 0s 42us/step - loss: 0.3605 - acc: 0.8500\n",
      "Epoch 33/100\n",
      "120/120 [==============================] - 0s 42us/step - loss: 0.3563 - acc: 0.8583\n",
      "Epoch 34/100\n",
      "120/120 [==============================] - 0s 42us/step - loss: 0.3492 - acc: 0.8639\n",
      "Epoch 35/100\n",
      "120/120 [==============================] - 0s 42us/step - loss: 0.3427 - acc: 0.8583\n",
      "Epoch 36/100\n",
      "120/120 [==============================] - 0s 42us/step - loss: 0.3393 - acc: 0.8611\n",
      "Epoch 37/100\n",
      "120/120 [==============================] - 0s 33us/step - loss: 0.3328 - acc: 0.8583\n",
      "Epoch 38/100\n",
      "120/120 [==============================] - 0s 58us/step - loss: 0.3273 - acc: 0.8667\n",
      "Epoch 39/100\n",
      "120/120 [==============================] - 0s 33us/step - loss: 0.3231 - acc: 0.8583\n",
      "Epoch 40/100\n",
      "120/120 [==============================] - 0s 42us/step - loss: 0.3168 - acc: 0.8778\n",
      "Epoch 41/100\n",
      "120/120 [==============================] - 0s 33us/step - loss: 0.3126 - acc: 0.8778\n",
      "Epoch 42/100\n",
      "120/120 [==============================] - 0s 33us/step - loss: 0.3082 - acc: 0.8806\n",
      "Epoch 43/100\n",
      "120/120 [==============================] - 0s 33us/step - loss: 0.3028 - acc: 0.8861\n",
      "Epoch 44/100\n",
      "120/120 [==============================] - 0s 33us/step - loss: 0.2980 - acc: 0.8833\n",
      "Epoch 45/100\n",
      "120/120 [==============================] - 0s 42us/step - loss: 0.2945 - acc: 0.8972\n",
      "Epoch 46/100\n",
      "120/120 [==============================] - 0s 42us/step - loss: 0.2897 - acc: 0.8944\n",
      "Epoch 47/100\n",
      "120/120 [==============================] - 0s 42us/step - loss: 0.2860 - acc: 0.8861\n",
      "Epoch 48/100\n",
      "120/120 [==============================] - 0s 42us/step - loss: 0.2816 - acc: 0.8917\n",
      "Epoch 49/100\n",
      "120/120 [==============================] - 0s 33us/step - loss: 0.2775 - acc: 0.9000\n",
      "Epoch 50/100\n",
      "120/120 [==============================] - 0s 42us/step - loss: 0.2759 - acc: 0.8917\n",
      "Epoch 51/100\n",
      "120/120 [==============================] - 0s 42us/step - loss: 0.2715 - acc: 0.8889\n",
      "Epoch 52/100\n",
      "120/120 [==============================] - 0s 42us/step - loss: 0.2674 - acc: 0.9056\n",
      "Epoch 53/100\n",
      "120/120 [==============================] - 0s 33us/step - loss: 0.2635 - acc: 0.8972\n",
      "Epoch 54/100\n",
      "120/120 [==============================] - 0s 33us/step - loss: 0.2628 - acc: 0.9028\n",
      "Epoch 55/100\n",
      "120/120 [==============================] - 0s 42us/step - loss: 0.2579 - acc: 0.9083\n",
      "Epoch 56/100\n",
      "120/120 [==============================] - 0s 42us/step - loss: 0.2548 - acc: 0.9056\n",
      "Epoch 57/100\n",
      "120/120 [==============================] - 0s 42us/step - loss: 0.2512 - acc: 0.9167\n",
      "Epoch 58/100\n",
      "120/120 [==============================] - 0s 33us/step - loss: 0.2481 - acc: 0.9083\n",
      "Epoch 59/100\n",
      "120/120 [==============================] - 0s 42us/step - loss: 0.2456 - acc: 0.9111\n",
      "Epoch 60/100\n",
      "120/120 [==============================] - 0s 42us/step - loss: 0.2422 - acc: 0.9167\n",
      "Epoch 61/100\n",
      "120/120 [==============================] - 0s 33us/step - loss: 0.2410 - acc: 0.9167\n",
      "Epoch 62/100\n",
      "120/120 [==============================] - 0s 42us/step - loss: 0.2370 - acc: 0.9111\n",
      "Epoch 63/100\n",
      "120/120 [==============================] - 0s 33us/step - loss: 0.2344 - acc: 0.9139\n",
      "Epoch 64/100\n",
      "120/120 [==============================] - 0s 33us/step - loss: 0.2313 - acc: 0.9194\n",
      "Epoch 65/100\n",
      "120/120 [==============================] - 0s 42us/step - loss: 0.2296 - acc: 0.9139\n",
      "Epoch 66/100\n",
      "120/120 [==============================] - 0s 33us/step - loss: 0.2291 - acc: 0.9194\n",
      "Epoch 67/100\n",
      "120/120 [==============================] - 0s 42us/step - loss: 0.2250 - acc: 0.9194\n",
      "Epoch 68/100\n",
      "120/120 [==============================] - 0s 42us/step - loss: 0.2224 - acc: 0.9083\n",
      "Epoch 69/100\n",
      "120/120 [==============================] - 0s 33us/step - loss: 0.2194 - acc: 0.9139\n",
      "Epoch 70/100\n",
      "120/120 [==============================] - 0s 33us/step - loss: 0.2169 - acc: 0.9194\n",
      "Epoch 71/100\n",
      "120/120 [==============================] - 0s 42us/step - loss: 0.2144 - acc: 0.9167\n",
      "Epoch 72/100\n",
      "120/120 [==============================] - 0s 33us/step - loss: 0.2126 - acc: 0.9194\n",
      "Epoch 73/100\n",
      "120/120 [==============================] - 0s 42us/step - loss: 0.2100 - acc: 0.9278\n",
      "Epoch 74/100\n",
      "120/120 [==============================] - 0s 42us/step - loss: 0.2088 - acc: 0.9306\n",
      "Epoch 75/100\n",
      "120/120 [==============================] - 0s 42us/step - loss: 0.2057 - acc: 0.9194\n",
      "Epoch 76/100\n",
      "120/120 [==============================] - 0s 33us/step - loss: 0.2031 - acc: 0.9250\n",
      "Epoch 77/100\n",
      "120/120 [==============================] - 0s 42us/step - loss: 0.2019 - acc: 0.9167\n",
      "Epoch 78/100\n",
      "120/120 [==============================] - 0s 33us/step - loss: 0.1994 - acc: 0.9278\n",
      "Epoch 79/100\n",
      "120/120 [==============================] - 0s 33us/step - loss: 0.1969 - acc: 0.9333\n",
      "Epoch 80/100\n",
      "120/120 [==============================] - 0s 33us/step - loss: 0.1949 - acc: 0.9278\n",
      "Epoch 81/100\n",
      "120/120 [==============================] - 0s 42us/step - loss: 0.1938 - acc: 0.9250\n",
      "Epoch 82/100\n",
      "120/120 [==============================] - 0s 33us/step - loss: 0.1910 - acc: 0.9361\n",
      "Epoch 83/100\n",
      "120/120 [==============================] - 0s 33us/step - loss: 0.1891 - acc: 0.9278\n",
      "Epoch 84/100\n"
     ]
    },
    {
     "name": "stdout",
     "output_type": "stream",
     "text": [
      "120/120 [==============================] - 0s 42us/step - loss: 0.1867 - acc: 0.9361\n",
      "Epoch 85/100\n",
      "120/120 [==============================] - 0s 33us/step - loss: 0.1851 - acc: 0.9361\n",
      "Epoch 86/100\n",
      "120/120 [==============================] - 0s 42us/step - loss: 0.1832 - acc: 0.9417\n",
      "Epoch 87/100\n",
      "120/120 [==============================] - 0s 33us/step - loss: 0.1818 - acc: 0.9306\n",
      "Epoch 88/100\n",
      "120/120 [==============================] - 0s 42us/step - loss: 0.1793 - acc: 0.9389\n",
      "Epoch 89/100\n",
      "120/120 [==============================] - 0s 33us/step - loss: 0.1776 - acc: 0.9444\n",
      "Epoch 90/100\n",
      "120/120 [==============================] - 0s 42us/step - loss: 0.1754 - acc: 0.9417\n",
      "Epoch 91/100\n",
      "120/120 [==============================] - 0s 33us/step - loss: 0.1737 - acc: 0.9389\n",
      "Epoch 92/100\n",
      "120/120 [==============================] - 0s 33us/step - loss: 0.1725 - acc: 0.9528\n",
      "Epoch 93/100\n",
      "120/120 [==============================] - 0s 50us/step - loss: 0.1701 - acc: 0.9444\n",
      "Epoch 94/100\n",
      "120/120 [==============================] - 0s 33us/step - loss: 0.1691 - acc: 0.9583\n",
      "Epoch 95/100\n",
      "120/120 [==============================] - 0s 25us/step - loss: 0.1665 - acc: 0.9417\n",
      "Epoch 96/100\n",
      "120/120 [==============================] - 0s 42us/step - loss: 0.1648 - acc: 0.9528\n",
      "Epoch 97/100\n",
      "120/120 [==============================] - 0s 25us/step - loss: 0.1655 - acc: 0.9472\n",
      "Epoch 98/100\n",
      "120/120 [==============================] - 0s 33us/step - loss: 0.1617 - acc: 0.9472\n",
      "Epoch 99/100\n",
      "120/120 [==============================] - 0s 42us/step - loss: 0.1603 - acc: 0.9556\n",
      "Epoch 100/100\n",
      "120/120 [==============================] - 0s 33us/step - loss: 0.1584 - acc: 0.9528\n",
      "30/30 [==============================] - 0s 3ms/step\n"
     ]
    }
   ],
   "source": [
    "model.fit(x_train, y_train, epochs=100)\n",
    "score = model.evaluate(x_test, y_test)"
   ]
  },
  {
   "cell_type": "code",
   "execution_count": 81,
   "metadata": {},
   "outputs": [
    {
     "data": {
      "text/plain": [
       "[0.163055881857872, 0.9777777791023254]"
      ]
     },
     "execution_count": 81,
     "metadata": {},
     "output_type": "execute_result"
    }
   ],
   "source": [
    "score"
   ]
  }
 ],
 "metadata": {
  "kernelspec": {
   "display_name": "Python 3",
   "language": "python",
   "name": "python3"
  },
  "language_info": {
   "codemirror_mode": {
    "name": "ipython",
    "version": 3
   },
   "file_extension": ".py",
   "mimetype": "text/x-python",
   "name": "python",
   "nbconvert_exporter": "python",
   "pygments_lexer": "ipython3",
   "version": "3.6.5"
  }
 },
 "nbformat": 4,
 "nbformat_minor": 2
}
