{
 "cells": [
  {
   "cell_type": "markdown",
   "metadata": {},
   "source": [
    "## Load File"
   ]
  },
  {
   "cell_type": "code",
   "execution_count": 1,
   "metadata": {},
   "outputs": [],
   "source": [
    "# clear workspace\n",
    "#rm(list = ls())\n",
    "\n",
    "# change current directory\n",
    "# setwd(\"C:/Users/Luise/Documents/jupyterprep/\")\n",
    "\n",
    "# load csv\n",
    "filename <- 'exp1_a.csv'\n",
    "data <- read.csv(filename, header = TRUE)\n",
    "\n",
    "# drop first two, irrelevant, columns\n",
    "data$X <- NULL\n",
    "data$X.1 <- NULL\n",
    "\n",
    "# make relevant coluns factors\n",
    "data$ppt=factor(data$ppt)\n",
    "data$qua=factor(data$qua)\n",
    "data$dip=factor(data$dip)"
   ]
  },
  {
   "cell_type": "code",
   "execution_count": null,
   "metadata": {},
   "outputs": [],
   "source": [
    "library(dplyr)\n",
    "sample_n(data, 5)"
   ]
  },
  {
   "cell_type": "markdown",
   "metadata": {},
   "source": [
    "## Missing Values"
   ]
  },
  {
   "cell_type": "code",
   "execution_count": null,
   "metadata": {},
   "outputs": [],
   "source": [
    "# how many missing values for the different columns?\n",
    "na <-sapply(data, function(x) sum(length(which(is.na(x)))))\n",
    "na <- data.frame(na_count)\n",
    "    na"
   ]
  },
  {
   "cell_type": "code",
   "execution_count": null,
   "metadata": {},
   "outputs": [],
   "source": [
    "# remove all the rows that contain a missing value\n",
    "data_na<-data[complete.cases(data), ]"
   ]
  },
  {
   "cell_type": "code",
   "execution_count": null,
   "metadata": {},
   "outputs": [],
   "source": [
    "# remove all columns with at least one missing value\n",
    "data_na<-data[,!apply(is.na(data), 2, any)]"
   ]
  },
  {
   "cell_type": "code",
   "execution_count": null,
   "metadata": {},
   "outputs": [],
   "source": [
    "# replace NA with 0\n",
    "data_na <- data\n",
    "data_na[is.na(data_na)] <- 0"
   ]
  },
  {
   "cell_type": "code",
   "execution_count": null,
   "metadata": {},
   "outputs": [],
   "source": [
    "# fill NA with column mean\n",
    "data_na <- data\n",
    "for(i in 1:ncol(data)){\n",
    "  data_na[is.na(data_na[,i]), i] <- mean(data_na[,i], na.rm = TRUE)\n",
    "}"
   ]
  },
  {
   "cell_type": "markdown",
   "metadata": {},
   "source": [
    "## Initial plots & data summary"
   ]
  },
  {
   "cell_type": "code",
   "execution_count": null,
   "metadata": {},
   "outputs": [],
   "source": [
    "summary(data)"
   ]
  },
  {
   "cell_type": "code",
   "execution_count": null,
   "metadata": {},
   "outputs": [],
   "source": [
    "head(aggregate(data, by=list(data$ppt), mean,simplify = TRUE))\n",
    "#aggregate(data, by=list(data$dip,data$qua,data$ppt), mean,simplify = TRUE)"
   ]
  },
  {
   "cell_type": "code",
   "execution_count": null,
   "metadata": {},
   "outputs": [],
   "source": [
    "# get frequencies in categorical vars\n",
    "# table(data$qua)\n",
    "library(plyr)\n",
    "count(data, 'qua')"
   ]
  },
  {
   "cell_type": "code",
   "execution_count": null,
   "metadata": {},
   "outputs": [],
   "source": [
    "# plot continuous variable distributions and correlations\n",
    "library(GGally)\n",
    "ggpairs(data[, c(\"dv\", \"dv_dp\")])"
   ]
  },
  {
   "cell_type": "code",
   "execution_count": null,
   "metadata": {},
   "outputs": [],
   "source": [
    "# cobine categorical variables in ggplot - example for per ppt plots\n",
    "library(ggplot2)\n",
    "ggplot(data, aes(x = qua, y = dv))+\n",
    "  geom_bar(\n",
    "    aes(fill = dip), stat = \"identity\", color = \"white\",\n",
    "    position = position_dodge(0.9)\n",
    "    )+\n",
    "  facet_wrap(~ppt)\n",
    "\n",
    "# more syntax\n",
    "ggplot(data, aes(x = dv_dp, y = dv)) +\n",
    "    geom_point(size=3) + geom_line(color=\"red\") +\n",
    "    xlim(0, 6) + ylim(0.49, 1) +\n",
    "    xlab(\"PC\") + ylab(\"d'\") +\n",
    "    ggtitle(paste(\"Random stuff!\",numit)) +\n",
    "    theme(text = element_text(size=20),plot.title = element_text(hjust = 0.5, face=\"bold\"))"
   ]
  },
  {
   "cell_type": "markdown",
   "metadata": {},
   "source": [
    "## Regular Expressions"
   ]
  },
  {
   "cell_type": "code",
   "execution_count": null,
   "metadata": {},
   "outputs": [],
   "source": [
    "text <- c(\"A\",\"text is\", \"a text!\")\n",
    "\n",
    "# returns elements of vector that include the queried text\n",
    "grep(\"text\", text, perl=TRUE, value=TRUE) # value=FALSE for indices\n",
    "\n",
    "# replace parts of strings, for regex expressions see python cookbook for more examples\n",
    "sub(\"text\", \"\", text, perl=TRUE)\n"
   ]
  },
  {
   "cell_type": "markdown",
   "metadata": {},
   "source": [
    "## Prep for training"
   ]
  },
  {
   "cell_type": "code",
   "execution_count": null,
   "metadata": {},
   "outputs": [],
   "source": [
    "## set the seed for reproducability\n",
    "set.seed(1)\n",
    "\n",
    "data$logdv = sample(c(0,1), replace=TRUE, size=nrow(data))\n",
    "\n",
    "# random indices\n",
    "train_ind <- sample(seq_len(nrow(data)), size = round(0.8*nrow(data)))\n",
    "\n",
    "train <- data[train_ind, ]\n",
    "test <- data[-train_ind, ]"
   ]
  },
  {
   "cell_type": "markdown",
   "metadata": {},
   "source": [
    "## Basic statistical tests - continous DV/categorical IVs"
   ]
  },
  {
   "cell_type": "markdown",
   "metadata": {},
   "source": [
    "Datasets for different samples. Note that the type of sum of squares used varies between the R packages. SPSS and SAS use type 3 by default, in R it is generally type 1 or 2. This controls what happens with the variance shared by predictors."
   ]
  },
  {
   "cell_type": "code",
   "execution_count": null,
   "metadata": {},
   "outputs": [],
   "source": [
    "# independent measures\n",
    "nppt<-100\n",
    "data <- data.frame(\n",
    "    dv=rnorm(nppt,0,1), # continuous dv\n",
    "    subj=factor(seq(1,nppt)), # subj\n",
    "    cond1= factor(rep(c(1,2),nppt/2)), # grouping variable 1\n",
    "    cond2= factor(rep(c(1,2,3,4,5),(nppt/5))) # grouping variable 1\n",
    ")\n",
    "\n",
    "# repeated measures\n",
    "nppt_rm<-10 # subj in rm design\n",
    "ntrials<-20 # trials per cond in rm design\n",
    "ncond1<-2 # levels of iv 1\n",
    "ncond2<-3 # levels of IV 2\n",
    "data_rm <- data.frame(\n",
    "    dv=rnorm(nppt_rm*ntrials*ncond1*ncond2,0,1), # continuous dv\n",
    "    subj=factor(rep(rep(sort(rep(seq(1,nppt_rm),ntrials)),ncond1),ncond2)), # subj\n",
    "    trial=factor(rep(rep(rep(seq(1,ntrials),nppt_rm),ncond1),ncond2)),\n",
    "    cond1=factor(rep(sort(rep(rep(seq(1,ncond1),ntrials),nppt_rm)),ncond2)),\n",
    "    cond2=factor(sort(rep(rep(rep(seq(1,ncond2),ntrials),nppt_rm),ncond1)))\n",
    ")\n",
    "# ensure that there is 1 observation per cobination of all vars\n",
    "counts<-count(data_rm, c('subj','trial','cond1','cond2'))\n",
    "sum(counts$freq)==nppt_rm*ntrials*ncond1*ncond2"
   ]
  },
  {
   "cell_type": "markdown",
   "metadata": {},
   "source": [
    "t-tests - independent samples"
   ]
  },
  {
   "cell_type": "code",
   "execution_count": null,
   "metadata": {},
   "outputs": [],
   "source": [
    "# introduce an effect into simulated data\n",
    "data$dv[data$cond1==1]<-data$dv[df$cond1==1]+0.5\n",
    "\n",
    "# assumption of normality (if not determined visually)\n",
    "shapiro.test(data$dv[data$cond1==1])\n",
    "shapiro.test(data$dv[data$cond1==2])\n",
    "\n",
    "# assumption of equal variances\n",
    "var.test(data$dv~data$cond1)\n",
    "\n",
    "# parametric\n",
    "t.test(data$dv~data$cond1,var.equal = TRUE) # alternative: t.test(data$dv[data$cond1==1],data$dv[data$cond1==2])\n",
    "# for one sided tests: alternative = c(\"two.sided\", \"less\", \"greater\")\n",
    "# for one sample tests: mu = 0\n",
    "# for welch test when vars unequal: var.equal = FALSE\n",
    "\n",
    "# non-parametric\n",
    "wilcox.test(data$dv~data$cond1) "
   ]
  },
  {
   "cell_type": "markdown",
   "metadata": {},
   "source": [
    "t-tests - dependent samples"
   ]
  },
  {
   "cell_type": "code",
   "execution_count": null,
   "metadata": {},
   "outputs": [],
   "source": [
    "# aggregate data cross trials\n",
    "df<-aggregate(dv ~ subj+cond1, data=data_rm, FUN=mean)\n",
    "#count(df, c('subj','cond1'))\n",
    "\n",
    "# introduce effect\n",
    "df$dv[df$cond1==1]<-df$dv[df$cond1==1]+0.2\n",
    "\n",
    "# pairwise differences normally distributed?\n",
    "shapiro.test(df$dv[df$cond1==1]-df$dv[df$cond1==2])\n",
    "\n",
    "# parametric\n",
    "t.test(df$dv ~ df$cond1,var.equal=TRUE)\n",
    "\n",
    "# non-parametric\n",
    "wilcox.test(df$dv ~ df$cond1)"
   ]
  },
  {
   "cell_type": "markdown",
   "metadata": {},
   "source": [
    "Simulated p-value distributions for t-tests"
   ]
  },
  {
   "cell_type": "code",
   "execution_count": null,
   "metadata": {},
   "outputs": [],
   "source": [
    "# adjust \n",
    "nppt<-100\n",
    "data <- data.frame(\n",
    "    dv=rnorm(nppt,0,1), # continuous dv\n",
    "    subj=factor(seq(1,nppt)), # subj\n",
    "    cond1= factor(rep(c(1,2),nppt/2)), # grouping variable 1\n",
    "    cond2= factor(rep(c(1,2,3,4,5),(nppt/5))) # grouping variable 1\n",
    ")\n",
    "\n",
    "# quick resampling of the dv (no relationship with iv)\n",
    "pval_noeffect<-NULL\n",
    "for(i in 1:1000){\n",
    "    data$dv <- rnorm(nppt,0,1) # continuous dv\n",
    "    pval_noeffect<-c(pval_noeffect,t.test(data$dv[data$cond1==1],data$dv[data$cond1==2])$p.value)\n",
    "}\n",
    "hist(pval_noeffect)\n",
    "\n",
    "# quick resampling of the dv (relationship with iv)\n",
    "pval_effect<-NULL\n",
    "for(i in 1:1000){\n",
    "    data$dv[data$cond1==1] <- rnorm(length(data$dv[data$cond1==1]),0,4) # continuous dv\n",
    "    data$dv[data$cond1==2] <- rnorm(length(data$dv[data$cond1==2]),1,4) # continuous dv\n",
    "    pval_effect<-c(pval_effect,t.test(data$dv[data$cond1==1],data$dv[data$cond1==2])$p.value)\n",
    "}\n",
    "hist(pval_effect)"
   ]
  },
  {
   "cell_type": "markdown",
   "metadata": {},
   "source": [
    "One-Way ANOVA (aov & ezANOVA)"
   ]
  },
  {
   "cell_type": "code",
   "execution_count": null,
   "metadata": {},
   "outputs": [],
   "source": [
    "# aov\n",
    "res.aov <- aov(dv ~ cond2, data = data)\n",
    "summary(res.aov)\n",
    "\n",
    "#ez ANOVA also runs assumption tests!\n",
    "library(ez)\n",
    "anova = ezANOVA(\n",
    "data = data\n",
    ", dv = dv\n",
    ", wid = subj\n",
    ", between = cond2\n",
    ")\n",
    "print(anova)"
   ]
  },
  {
   "cell_type": "markdown",
   "metadata": {},
   "source": [
    "One-Way RM ANOVA (aov & ezANOVA)"
   ]
  },
  {
   "cell_type": "code",
   "execution_count": null,
   "metadata": {},
   "outputs": [],
   "source": [
    "# aggregate data cross trials\n",
    "df<-aggregate(dv ~ subj+cond2, data=data_rm, FUN=mean)\n",
    "\n",
    "# aov\n",
    "res.aov <- aov(dv ~ cond2+Error(subj/cond2), data = df)\n",
    "summary(res.aov)\n",
    "\n",
    "#ez ANOVA also runs assumption tests!\n",
    "library(ez)\n",
    "anova = ezANOVA(\n",
    "data = df\n",
    ", dv = dv\n",
    ", wid = subj\n",
    ", within = cond2\n",
    ")\n",
    "print(anova)"
   ]
  },
  {
   "cell_type": "markdown",
   "metadata": {},
   "source": [
    "Two-Way ANOVA (aov & ezANOVA)"
   ]
  },
  {
   "cell_type": "code",
   "execution_count": null,
   "metadata": {},
   "outputs": [],
   "source": [
    "#aov\n",
    "res.aov <- aov(dv ~ cond1*cond2, data = data)\n",
    "summary(res.aov)\n",
    "\n",
    "#ez ANOVA also runs assumption tests!\n",
    "library(ez)\n",
    "anova = ezANOVA(\n",
    "data = data\n",
    ", dv = dv\n",
    ", wid = subj\n",
    ", between = c(cond1,cond2)\n",
    ")\n",
    "print(anova)"
   ]
  },
  {
   "cell_type": "markdown",
   "metadata": {},
   "source": [
    "Two-Way RM ANOVA (aov & ezANOVA)"
   ]
  },
  {
   "cell_type": "code",
   "execution_count": null,
   "metadata": {},
   "outputs": [],
   "source": [
    "# aggregate data cross trials\n",
    "df<-aggregate(dv ~ subj+cond1+cond2, data=data_rm, FUN=mean)\n",
    "#count(df, c('cond1','cond2'))\n",
    "\n",
    "#aov\n",
    "res.aov <- aov(dv ~ cond1*cond2 + Error(subj/(cond1*cond2)), data = df)\n",
    "summary(res.aov)\n",
    "\n",
    "#ez ANOVA also runs assumption tests!\n",
    "library(ez)\n",
    "anova = ezANOVA(\n",
    "data = df\n",
    ", dv = dv\n",
    ", wid = subj\n",
    ", within = c(cond1,cond2)\n",
    ")\n",
    "print(anova)"
   ]
  }
 ],
 "metadata": {
  "kernelspec": {
   "display_name": "R",
   "language": "R",
   "name": "ir"
  },
  "language_info": {
   "codemirror_mode": "r",
   "file_extension": ".r",
   "mimetype": "text/x-r-source",
   "name": "R",
   "pygments_lexer": "r",
   "version": "3.4.1"
  }
 },
 "nbformat": 4,
 "nbformat_minor": 2
}
