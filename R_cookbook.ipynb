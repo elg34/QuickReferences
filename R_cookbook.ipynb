{
 "cells": [
  {
   "cell_type": "markdown",
   "metadata": {
    "deletable": true,
    "editable": true
   },
   "source": [
    "## Load File"
   ]
  },
  {
   "cell_type": "code",
   "execution_count": 11,
   "metadata": {
    "collapsed": false,
    "deletable": true,
    "editable": true
   },
   "outputs": [],
   "source": [
    "# clear workspace\n",
    "#rm(list = ls())\n",
    "\n",
    "# change current directory\n",
    "# setwd(\"C:/Users/Luise/Documents/jupyterprep/\")\n",
    "\n",
    "# load csv\n",
    "filename <- 'exp1_a.csv'\n",
    "data <- read.csv(filename, header = TRUE)\n",
    "\n",
    "# drop first two, irrelevant, columns\n",
    "data$X <- NULL\n",
    "data$X.1 <- NULL\n",
    "\n",
    "# make relevant coluns factors\n",
    "data$ppt=factor(data$ppt)\n",
    "data$qua=factor(data$qua)\n",
    "data$dip=factor(data$dip)"
   ]
  },
  {
   "cell_type": "code",
   "execution_count": 12,
   "metadata": {
    "collapsed": false,
    "deletable": true,
    "editable": true
   },
   "outputs": [
    {
     "name": "stderr",
     "output_type": "stream",
     "text": [
      "\n",
      "Attaching package: ‘dplyr’\n",
      "\n",
      "The following objects are masked from ‘package:stats’:\n",
      "\n",
      "    filter, lag\n",
      "\n",
      "The following objects are masked from ‘package:base’:\n",
      "\n",
      "    intersect, setdiff, setequal, union\n",
      "\n"
     ]
    },
    {
     "data": {
      "text/html": [
       "<table>\n",
       "<thead><tr><th></th><th scope=col>ppt</th><th scope=col>dv</th><th scope=col>qua</th><th scope=col>dip</th><th scope=col>dv_dp</th></tr></thead>\n",
       "<tbody>\n",
       "\t<tr><th scope=row>138</th><td>11       </td><td>0.22     </td><td>1        </td><td>2        </td><td>0.4385715</td></tr>\n",
       "\t<tr><th scope=row>57</th><td>4        </td><td>0.11     </td><td>2        </td><td>2        </td><td>0.1768811</td></tr>\n",
       "\t<tr><th scope=row>80</th><td>6        </td><td>0.31     </td><td>2        </td><td>1        </td><td>1.0075496</td></tr>\n",
       "\t<tr><th scope=row>60</th><td>4        </td><td>0.13     </td><td>3        </td><td>2        </td><td>0.4553954</td></tr>\n",
       "\t<tr><th scope=row>133</th><td>11       </td><td>0.81     </td><td>0        </td><td>0        </td><td>1.9390641</td></tr>\n",
       "</tbody>\n",
       "</table>\n"
      ],
      "text/latex": [
       "\\begin{tabular}{r|lllll}\n",
       "  & ppt & dv & qua & dip & dv\\_dp\\\\\n",
       "\\hline\n",
       "\t138 & 11        & 0.22      & 1         & 2         & 0.4385715\\\\\n",
       "\t57 & 4         & 0.11      & 2         & 2         & 0.1768811\\\\\n",
       "\t80 & 6         & 0.31      & 2         & 1         & 1.0075496\\\\\n",
       "\t60 & 4         & 0.13      & 3         & 2         & 0.4553954\\\\\n",
       "\t133 & 11        & 0.81      & 0         & 0         & 1.9390641\\\\\n",
       "\\end{tabular}\n"
      ],
      "text/markdown": [
       "\n",
       "| <!--/--> | ppt | dv | qua | dip | dv_dp | \n",
       "|---|---|---|---|---|\n",
       "| 138 | 11        | 0.22      | 1         | 2         | 0.4385715 | \n",
       "| 57 | 4         | 0.11      | 2         | 2         | 0.1768811 | \n",
       "| 80 | 6         | 0.31      | 2         | 1         | 1.0075496 | \n",
       "| 60 | 4         | 0.13      | 3         | 2         | 0.4553954 | \n",
       "| 133 | 11        | 0.81      | 0         | 0         | 1.9390641 | \n",
       "\n",
       "\n"
      ],
      "text/plain": [
       "    ppt dv   qua dip dv_dp    \n",
       "138 11  0.22 1   2   0.4385715\n",
       "57  4   0.11 2   2   0.1768811\n",
       "80  6   0.31 2   1   1.0075496\n",
       "60  4   0.13 3   2   0.4553954\n",
       "133 11  0.81 0   0   1.9390641"
      ]
     },
     "metadata": {},
     "output_type": "display_data"
    }
   ],
   "source": [
    "library(dplyr)\n",
    "sample_n(data, 5)"
   ]
  },
  {
   "cell_type": "markdown",
   "metadata": {
    "deletable": true,
    "editable": true
   },
   "source": [
    "## Missing Values"
   ]
  },
  {
   "cell_type": "code",
   "execution_count": null,
   "metadata": {
    "collapsed": false,
    "deletable": true,
    "editable": true
   },
   "outputs": [],
   "source": [
    "# how many missing values for the different columns?\n",
    "na <-sapply(data, function(x) sum(length(which(is.na(x)))))\n",
    "na <- data.frame(na_count)\n",
    "    na"
   ]
  },
  {
   "cell_type": "code",
   "execution_count": null,
   "metadata": {
    "collapsed": false,
    "deletable": true,
    "editable": true
   },
   "outputs": [],
   "source": [
    "# remove all the rows that contain a missing value\n",
    "data_na<-data[complete.cases(data), ]"
   ]
  },
  {
   "cell_type": "code",
   "execution_count": null,
   "metadata": {
    "collapsed": false,
    "deletable": true,
    "editable": true
   },
   "outputs": [],
   "source": [
    "# remove all columns with at least one missing value\n",
    "data_na<-data[,!apply(is.na(data), 2, any)]"
   ]
  },
  {
   "cell_type": "code",
   "execution_count": null,
   "metadata": {
    "collapsed": false,
    "deletable": true,
    "editable": true
   },
   "outputs": [],
   "source": [
    "# replace NA with 0\n",
    "data_na <- data\n",
    "data_na[is.na(data_na)] <- 0"
   ]
  },
  {
   "cell_type": "code",
   "execution_count": null,
   "metadata": {
    "collapsed": false,
    "deletable": true,
    "editable": true
   },
   "outputs": [],
   "source": [
    "# fill NA with column mean\n",
    "data_na <- data\n",
    "for(i in 1:ncol(data)){\n",
    "  data_na[is.na(data_na[,i]), i] <- mean(data_na[,i], na.rm = TRUE)\n",
    "}"
   ]
  },
  {
   "cell_type": "markdown",
   "metadata": {
    "deletable": true,
    "editable": true
   },
   "source": [
    "## Initial plots & data summary"
   ]
  },
  {
   "cell_type": "code",
   "execution_count": 6,
   "metadata": {
    "collapsed": false,
    "deletable": true,
    "editable": true
   },
   "outputs": [
    {
     "data": {
      "text/plain": [
       "      ppt           dv              qua            dip        dv_dp        \n",
       " Min.   : 0   Min.   :0.0500   Min.   :0.00   Min.   :0   Min.   :-0.1233  \n",
       " 1st Qu.: 3   1st Qu.:0.2200   1st Qu.:0.75   1st Qu.:0   1st Qu.: 0.5855  \n",
       " Median : 6   Median :0.3300   Median :1.50   Median :1   Median : 1.0027  \n",
       " Mean   : 6   Mean   :0.3841   Mean   :1.50   Mean   :1   Mean   : 1.0046  \n",
       " 3rd Qu.: 9   3rd Qu.:0.5250   3rd Qu.:2.25   3rd Qu.:2   3rd Qu.: 1.3424  \n",
       " Max.   :12   Max.   :0.9500   Max.   :3.00   Max.   :2   Max.   : 2.9162  "
      ]
     },
     "metadata": {},
     "output_type": "display_data"
    }
   ],
   "source": [
    "summary(data)"
   ]
  },
  {
   "cell_type": "code",
   "execution_count": 12,
   "metadata": {
    "collapsed": false,
    "deletable": true,
    "editable": true
   },
   "outputs": [
    {
     "data": {
      "text/html": [
       "<table>\n",
       "<thead><tr><th scope=col>Group.1</th><th scope=col>ppt</th><th scope=col>dv</th><th scope=col>qua</th><th scope=col>dip</th><th scope=col>dv_dp</th></tr></thead>\n",
       "<tbody>\n",
       "\t<tr><td>0        </td><td>0        </td><td>0.2712500</td><td>1.5      </td><td>1        </td><td>0.5906750</td></tr>\n",
       "\t<tr><td>1        </td><td>1        </td><td>0.3791667</td><td>1.5      </td><td>1        </td><td>0.9778913</td></tr>\n",
       "\t<tr><td>2        </td><td>2        </td><td>0.4616667</td><td>1.5      </td><td>1        </td><td>1.2720477</td></tr>\n",
       "\t<tr><td>3        </td><td>3        </td><td>0.4750000</td><td>1.5      </td><td>1        </td><td>1.3275975</td></tr>\n",
       "\t<tr><td>4        </td><td>4        </td><td>0.3672917</td><td>1.5      </td><td>1        </td><td>0.9368048</td></tr>\n",
       "\t<tr><td>5        </td><td>5        </td><td>0.4375000</td><td>1.5      </td><td>1        </td><td>1.1995430</td></tr>\n",
       "</tbody>\n",
       "</table>\n"
      ],
      "text/latex": [
       "\\begin{tabular}{r|llllll}\n",
       " Group.1 & ppt & dv & qua & dip & dv\\_dp\\\\\n",
       "\\hline\n",
       "\t 0         & 0         & 0.2712500 & 1.5       & 1         & 0.5906750\\\\\n",
       "\t 1         & 1         & 0.3791667 & 1.5       & 1         & 0.9778913\\\\\n",
       "\t 2         & 2         & 0.4616667 & 1.5       & 1         & 1.2720477\\\\\n",
       "\t 3         & 3         & 0.4750000 & 1.5       & 1         & 1.3275975\\\\\n",
       "\t 4         & 4         & 0.3672917 & 1.5       & 1         & 0.9368048\\\\\n",
       "\t 5         & 5         & 0.4375000 & 1.5       & 1         & 1.1995430\\\\\n",
       "\\end{tabular}\n"
      ],
      "text/markdown": [
       "\n",
       "Group.1 | ppt | dv | qua | dip | dv_dp | \n",
       "|---|---|---|---|---|---|\n",
       "| 0         | 0         | 0.2712500 | 1.5       | 1         | 0.5906750 | \n",
       "| 1         | 1         | 0.3791667 | 1.5       | 1         | 0.9778913 | \n",
       "| 2         | 2         | 0.4616667 | 1.5       | 1         | 1.2720477 | \n",
       "| 3         | 3         | 0.4750000 | 1.5       | 1         | 1.3275975 | \n",
       "| 4         | 4         | 0.3672917 | 1.5       | 1         | 0.9368048 | \n",
       "| 5         | 5         | 0.4375000 | 1.5       | 1         | 1.1995430 | \n",
       "\n",
       "\n"
      ],
      "text/plain": [
       "  Group.1 ppt dv        qua dip dv_dp    \n",
       "1 0       0   0.2712500 1.5 1   0.5906750\n",
       "2 1       1   0.3791667 1.5 1   0.9778913\n",
       "3 2       2   0.4616667 1.5 1   1.2720477\n",
       "4 3       3   0.4750000 1.5 1   1.3275975\n",
       "5 4       4   0.3672917 1.5 1   0.9368048\n",
       "6 5       5   0.4375000 1.5 1   1.1995430"
      ]
     },
     "metadata": {},
     "output_type": "display_data"
    }
   ],
   "source": [
    "head(aggregate(data, by=list(data$ppt), mean,simplify = TRUE))\n",
    "#aggregate(data, by=list(data$dip,data$qua,data$ppt), mean,simplify = TRUE)"
   ]
  },
  {
   "cell_type": "code",
   "execution_count": 18,
   "metadata": {
    "collapsed": false,
    "deletable": true,
    "editable": true
   },
   "outputs": [
    {
     "data": {
      "text/html": [
       "<table>\n",
       "<thead><tr><th scope=col>qua</th><th scope=col>freq</th></tr></thead>\n",
       "<tbody>\n",
       "\t<tr><td>0 </td><td>39</td></tr>\n",
       "\t<tr><td>1 </td><td>39</td></tr>\n",
       "\t<tr><td>2 </td><td>39</td></tr>\n",
       "\t<tr><td>3 </td><td>39</td></tr>\n",
       "</tbody>\n",
       "</table>\n"
      ],
      "text/latex": [
       "\\begin{tabular}{r|ll}\n",
       " qua & freq\\\\\n",
       "\\hline\n",
       "\t 0  & 39\\\\\n",
       "\t 1  & 39\\\\\n",
       "\t 2  & 39\\\\\n",
       "\t 3  & 39\\\\\n",
       "\\end{tabular}\n"
      ],
      "text/markdown": [
       "\n",
       "qua | freq | \n",
       "|---|---|---|---|\n",
       "| 0  | 39 | \n",
       "| 1  | 39 | \n",
       "| 2  | 39 | \n",
       "| 3  | 39 | \n",
       "\n",
       "\n"
      ],
      "text/plain": [
       "  qua freq\n",
       "1 0   39  \n",
       "2 1   39  \n",
       "3 2   39  \n",
       "4 3   39  "
      ]
     },
     "metadata": {},
     "output_type": "display_data"
    }
   ],
   "source": [
    "# get frequencies in categorical vars\n",
    "# table(data$qua)\n",
    "library(plyr)\n",
    "count(data, 'qua')"
   ]
  },
  {
   "cell_type": "code",
   "execution_count": 57,
   "metadata": {
    "collapsed": false,
    "deletable": true,
    "editable": true
   },
   "outputs": [
    {
     "data": {},
     "metadata": {},
     "output_type": "display_data"
    },
    {
     "data": {
      "image/png": "[encoded data removed]",
      "text/plain": [
       "plot without title"
      ]
     },
     "metadata": {},
     "output_type": "display_data"
    }
   ],
   "source": [
    "# plot continuous variable distributions and correlations\n",
    "library(GGally)\n",
    "ggpairs(data[, c(\"dv\", \"dv_dp\")])"
   ]
  },
  {
   "cell_type": "code",
   "execution_count": 60,
   "metadata": {
    "collapsed": false,
    "deletable": true,
    "editable": true
   },
   "outputs": [
    {
     "data": {},
     "metadata": {},
     "output_type": "display_data"
    },
    {
     "data": {
      "image/png": "[encoded data removed]",
      "text/plain": [
       "plot without title"
      ]
     },
     "metadata": {},
     "output_type": "display_data"
    }
   ],
   "source": [
    "# cobine categorical variables in ggplot - example for per ppt plots\n",
    "library(ggplot2)\n",
    "ggplot(data, aes(x = qua, y = dv))+\n",
    "  geom_bar(\n",
    "    aes(fill = dip), stat = \"identity\", color = \"white\",\n",
    "    position = position_dodge(0.9)\n",
    "    )+\n",
    "  facet_wrap(~ppt)"
   ]
  },
  {
   "cell_type": "markdown",
   "metadata": {
    "deletable": true,
    "editable": true
   },
   "source": [
    "## Regular Expressions"
   ]
  },
  {
   "cell_type": "code",
   "execution_count": 5,
   "metadata": {
    "collapsed": false,
    "deletable": true,
    "editable": true
   },
   "outputs": [
    {
     "data": {
      "text/html": [
       "<ol class=list-inline>\n",
       "\t<li>'text is'</li>\n",
       "\t<li>'a text!'</li>\n",
       "</ol>\n"
      ],
      "text/latex": [
       "\\begin{enumerate*}\n",
       "\\item 'text is'\n",
       "\\item 'a text!'\n",
       "\\end{enumerate*}\n"
      ],
      "text/markdown": [
       "1. 'text is'\n",
       "2. 'a text!'\n",
       "\n",
       "\n"
      ],
      "text/plain": [
       "[1] \"text is\" \"a text!\""
      ]
     },
     "metadata": {},
     "output_type": "display_data"
    },
    {
     "data": {
      "text/html": [
       "<ol class=list-inline>\n",
       "\t<li>'A'</li>\n",
       "\t<li>' is'</li>\n",
       "\t<li>'a !'</li>\n",
       "</ol>\n"
      ],
      "text/latex": [
       "\\begin{enumerate*}\n",
       "\\item 'A'\n",
       "\\item ' is'\n",
       "\\item 'a !'\n",
       "\\end{enumerate*}\n"
      ],
      "text/markdown": [
       "1. 'A'\n",
       "2. ' is'\n",
       "3. 'a !'\n",
       "\n",
       "\n"
      ],
      "text/plain": [
       "[1] \"A\"   \" is\" \"a !\""
      ]
     },
     "metadata": {},
     "output_type": "display_data"
    }
   ],
   "source": [
    "text <- c(\"A\",\"text is\", \"a text!\")\n",
    "\n",
    "# returns elements of vector that include the queried text\n",
    "grep(\"text\", text, perl=TRUE, value=TRUE) # value=FALSE for indices\n",
    "\n",
    "# replace parts of strings, for regex expressions see python cookbook for more examples\n",
    "sub(\"text\", \"\", text, perl=TRUE)\n"
   ]
  },
  {
   "cell_type": "markdown",
   "metadata": {
    "deletable": true,
    "editable": true
   },
   "source": [
    "## Prep for training"
   ]
  },
  {
   "cell_type": "code",
   "execution_count": 13,
   "metadata": {
    "collapsed": false,
    "deletable": true,
    "editable": true
   },
   "outputs": [],
   "source": [
    "## set the seed for reproducability\n",
    "set.seed(1)\n",
    "\n",
    "data$logdv = sample(c(0,1), replace=TRUE, size=nrow(data))\n",
    "\n",
    "# random indices\n",
    "train_ind <- sample(seq_len(nrow(data)), size = round(0.8*nrow(data)))\n",
    "\n",
    "train <- data[train_ind, ]\n",
    "test <- data[-train_ind, ]"
   ]
  },
  {
   "cell_type": "markdown",
   "metadata": {},
   "source": [
    "## Basic statistical tests - continous DV"
   ]
  },
  {
   "cell_type": "markdown",
   "metadata": {},
   "source": [
    "Datasets for different samples"
   ]
  },
  {
   "cell_type": "code",
   "execution_count": 289,
   "metadata": {
    "collapsed": false
   },
   "outputs": [
    {
     "data": {
      "text/html": [
       "TRUE"
      ],
      "text/latex": [
       "TRUE"
      ],
      "text/markdown": [
       "TRUE"
      ],
      "text/plain": [
       "[1] TRUE"
      ]
     },
     "metadata": {},
     "output_type": "display_data"
    }
   ],
   "source": [
    "# adjust \n",
    "nppt<-100\n",
    "data <- data.frame(\n",
    "    dv=rnorm(nppt,0,1), # continuous dv\n",
    "    subj=factor(seq(1,nppt)), # subj\n",
    "    cond1= factor(rep(c(1,2),nppt/2)), # grouping variable 1\n",
    "    cond2= factor(rep(c(1,2,3,4,5),(nppt/5))), # grouping variable 1\n",
    "    cont1=rnorm(nppt,2,1), # continuous iv1\n",
    "    cont2=rnorm(nppt,3,2) # continuous iv2\n",
    ")\n",
    "\n",
    "# repeated measures\n",
    "nppt_rm<-10 # subj in rm design\n",
    "ntrials<-20 # trials per cond in rm design\n",
    "ncond1<-2 # levels of iv 1\n",
    "ncond2<-3 # levels of IV 2\n",
    "data_rm <- data.frame(\n",
    "    dv=rnorm(nppt_rm*ntrials*ncond1*ncond2,0,1), # continuous dv\n",
    "    subj=factor(rep(rep(sort(rep(seq(1,nppt_rm),ntrials)),ncond1),ncond2)), # subj\n",
    "    trial=factor(rep(rep(rep(seq(1,ntrials),nppt_rm),ncond1),ncond2)),\n",
    "    cond1=factor(rep(sort(rep(rep(seq(1,ncond1),ntrials),nppt_rm)),ncond2)),\n",
    "    cond2=factor(sort(rep(rep(rep(seq(1,ncond2),ntrials),nppt_rm),ncond1)))\n",
    ")\n",
    "# ensure that there is 1 observation per cobination of all vars\n",
    "counts<-count(data_rm, c('subj','trial','cond1','cond2'))\n",
    "sum(counts$freq)==nppt_rm*ntrials*ncond1*ncond2"
   ]
  },
  {
   "cell_type": "markdown",
   "metadata": {},
   "source": [
    "t-tests - independent samples"
   ]
  },
  {
   "cell_type": "code",
   "execution_count": 253,
   "metadata": {
    "collapsed": false
   },
   "outputs": [
    {
     "data": {
      "text/plain": [
       "\n",
       "\tShapiro-Wilk normality test\n",
       "\n",
       "data:  data$dv[data$cond1 == 1]\n",
       "W = 0.97675, p-value = 0.4246\n"
      ]
     },
     "metadata": {},
     "output_type": "display_data"
    },
    {
     "data": {
      "text/plain": [
       "\n",
       "\tShapiro-Wilk normality test\n",
       "\n",
       "data:  data$dv[data$cond1 == 2]\n",
       "W = 0.97514, p-value = 0.3694\n"
      ]
     },
     "metadata": {},
     "output_type": "display_data"
    },
    {
     "data": {
      "text/plain": [
       "\n",
       "\tF test to compare two variances\n",
       "\n",
       "data:  data$dv by data$cond1\n",
       "F = 0.89913, num df = 49, denom df = 49, p-value = 0.7113\n",
       "alternative hypothesis: true ratio of variances is not equal to 1\n",
       "95 percent confidence interval:\n",
       " 0.5102364 1.5844415\n",
       "sample estimates:\n",
       "ratio of variances \n",
       "         0.8991328 \n"
      ]
     },
     "metadata": {},
     "output_type": "display_data"
    },
    {
     "data": {
      "text/plain": [
       "\n",
       "\tTwo Sample t-test\n",
       "\n",
       "data:  data$dv by data$cond1\n",
       "t = 1.4675, df = 98, p-value = 0.1454\n",
       "alternative hypothesis: true difference in means is not equal to 0\n",
       "95 percent confidence interval:\n",
       " -0.1081648  0.7222366\n",
       "sample estimates:\n",
       "mean in group 1 mean in group 2 \n",
       "     0.28119807     -0.02583786 \n"
      ]
     },
     "metadata": {},
     "output_type": "display_data"
    },
    {
     "data": {
      "text/plain": [
       "\n",
       "\tWilcoxon rank sum test with continuity correction\n",
       "\n",
       "data:  data$dv by data$cond1\n",
       "W = 1447, p-value = 0.1755\n",
       "alternative hypothesis: true location shift is not equal to 0\n"
      ]
     },
     "metadata": {},
     "output_type": "display_data"
    }
   ],
   "source": [
    "# introduce an effect into simulated data\n",
    "data$dv[data$cond1==1]<-data$dv[df$cond1==1]+0.5\n",
    "\n",
    "# assumption of normality (if not determined visually)\n",
    "shapiro.test(data$dv[data$cond1==1])\n",
    "shapiro.test(data$dv[data$cond1==2])\n",
    "\n",
    "# assumption of equal variances\n",
    "var.test(data$dv~data$cond1)\n",
    "\n",
    "# parametric\n",
    "t.test(data$dv~data$cond1,var.equal = TRUE) # alternative: t.test(data$dv[data$cond1==1],data$dv[data$cond1==2])\n",
    "# for one sided tests: alternative = c(\"two.sided\", \"less\", \"greater\")\n",
    "# for one sample tests: mu = 0\n",
    "# for welch test when vars unequal: var.equal = FALSE\n",
    "\n",
    "# non-parametric\n",
    "wilcox.test(data$dv~data$cond1) "
   ]
  },
  {
   "cell_type": "markdown",
   "metadata": {},
   "source": [
    "t-tests - dependent samples"
   ]
  },
  {
   "cell_type": "code",
   "execution_count": 254,
   "metadata": {
    "collapsed": false
   },
   "outputs": [
    {
     "data": {
      "text/plain": [
       "\n",
       "\tShapiro-Wilk normality test\n",
       "\n",
       "data:  df$dv[df$cond1 == 1] - df$dv[df$cond1 == 2]\n",
       "W = 0.95156, p-value = 0.687\n"
      ]
     },
     "metadata": {},
     "output_type": "display_data"
    },
    {
     "data": {
      "text/plain": [
       "\n",
       "\tTwo Sample t-test\n",
       "\n",
       "data:  df$dv by df$cond1\n",
       "t = 3.1091, df = 18, p-value = 0.006057\n",
       "alternative hypothesis: true difference in means is not equal to 0\n",
       "95 percent confidence interval:\n",
       " 0.05827373 0.30114264\n",
       "sample estimates:\n",
       "mean in group 1 mean in group 2 \n",
       "    0.176052484    -0.003655702 \n"
      ]
     },
     "metadata": {},
     "output_type": "display_data"
    },
    {
     "data": {
      "text/plain": [
       "\n",
       "\tWilcoxon rank sum test\n",
       "\n",
       "data:  df$dv by df$cond1\n",
       "W = 86, p-value = 0.005196\n",
       "alternative hypothesis: true location shift is not equal to 0\n"
      ]
     },
     "metadata": {},
     "output_type": "display_data"
    }
   ],
   "source": [
    "# aggregate data cross trials\n",
    "df<-aggregate(dv ~ subj+cond1, data=data_rm, FUN=mean)\n",
    "#count(df, c('subj','cond1'))\n",
    "\n",
    "# introduce effect\n",
    "df$dv[df$cond1==1]<-df$dv[df$cond1==1]+0.2\n",
    "\n",
    "# pairwise differences normally distributed?\n",
    "shapiro.test(df$dv[df$cond1==1]-df$dv[df$cond1==2])\n",
    "\n",
    "# parametric\n",
    "t.test(df$dv ~ df$cond1,var.equal=TRUE)\n",
    "\n",
    "# non-parametric\n",
    "wilcox.test(df$dv ~ df$cond1)"
   ]
  },
  {
   "cell_type": "markdown",
   "metadata": {},
   "source": [
    "Simulated p-value distributions for t-tests"
   ]
  },
  {
   "cell_type": "code",
   "execution_count": 290,
   "metadata": {
    "collapsed": false
   },
   "outputs": [
    {
     "data": {
      "image/png": "[encoded data removed]",
      "text/plain": [
       "Plot with title “Histogram of pval_noeffect”"
      ]
     },
     "metadata": {},
     "output_type": "display_data"
    },
    {
     "data": {
      "image/png": "[encoded data removed]",
      "text/plain": [
       "Plot with title “Histogram of pval_effect”"
      ]
     },
     "metadata": {},
     "output_type": "display_data"
    }
   ],
   "source": [
    "# adjust \n",
    "nppt<-100\n",
    "data <- data.frame(\n",
    "    dv=rnorm(nppt,0,1), # continuous dv\n",
    "    subj=factor(seq(1,nppt)), # subj\n",
    "    cond1= factor(rep(c(1,2),nppt/2)), # grouping variable 1\n",
    "    cond2= factor(rep(c(1,2,3,4,5),(nppt/5))), # grouping variable 1\n",
    "    cont1=rnorm(nppt,2,1), # continuous iv1\n",
    "    cont2=rnorm(nppt,3,2) # continuous iv2\n",
    ")\n",
    "\n",
    "# quick resampling of the dv (no relationship with iv)\n",
    "pval_noeffect<-NULL\n",
    "for(i in 1:1000){\n",
    "    data$dv <- rnorm(nppt,0,1) # continuous dv\n",
    "    pval_noeffect<-c(pval_noeffect,t.test(data$dv[data$cond1==1],data$dv[data$cond1==2])$p.value)\n",
    "}\n",
    "hist(pval_noeffect)\n",
    "\n",
    "# quick resampling of the dv (relationship with iv)\n",
    "pval_effect<-NULL\n",
    "for(i in 1:1000){\n",
    "    data$dv[data$cond1==1] <- rnorm(length(data$dv[data$cond1==1]),0,4) # continuous dv\n",
    "    data$dv[data$cond1==2] <- rnorm(length(data$dv[data$cond1==2]),1,4) # continuous dv\n",
    "    pval_effect<-c(pval_effect,t.test(data$dv[data$cond1==1],data$dv[data$cond1==2])$p.value)\n",
    "}\n",
    "hist(pval_effect)"
   ]
  },
  {
   "cell_type": "markdown",
   "metadata": {},
   "source": [
    "One-Way ANOVA (aov & ezANOVA)"
   ]
  },
  {
   "cell_type": "code",
   "execution_count": 291,
   "metadata": {
    "collapsed": false
   },
   "outputs": [
    {
     "data": {
      "text/plain": [
       "            Df Sum Sq Mean Sq F value Pr(>F)\n",
       "cond2        4   90.9   22.71   1.274  0.286\n",
       "Residuals   95 1694.1   17.83               "
      ]
     },
     "metadata": {},
     "output_type": "display_data"
    },
    {
     "name": "stderr",
     "output_type": "stream",
     "text": [
      "Coefficient covariances computed by hccm()\n"
     ]
    },
    {
     "name": "stdout",
     "output_type": "stream",
     "text": [
      "$ANOVA\n",
      "  Effect DFn DFd        F         p p<.05        ges\n",
      "1  cond2   4  95 1.273779 0.2857695       0.05090275\n",
      "\n",
      "$`Levene's Test for Homogeneity of Variance`\n",
      "  DFn DFd     SSn      SSd         F         p p<.05\n",
      "1   4  95 9.13938 529.4472 0.4099753 0.8010602      \n",
      "\n"
     ]
    }
   ],
   "source": [
    "# aov\n",
    "res.aov <- aov(dv ~ cond2, data = data)\n",
    "summary(res.aov)\n",
    "\n",
    "#ez ANOVA also runs assumption tests!\n",
    "library(ez)\n",
    "anova = ezANOVA(\n",
    "data = data\n",
    ", dv = dv\n",
    ", wid = subj\n",
    ", between = cond2\n",
    ")\n",
    "print(anova)"
   ]
  },
  {
   "cell_type": "markdown",
   "metadata": {},
   "source": [
    "One-Way RM ANOVA (aov & ezANOVA)"
   ]
  },
  {
   "cell_type": "code",
   "execution_count": 292,
   "metadata": {
    "collapsed": false
   },
   "outputs": [
    {
     "data": {
      "text/plain": [
       "\n",
       "Error: subj\n",
       "          Df Sum Sq Mean Sq F value Pr(>F)\n",
       "Residuals  9 0.1116  0.0124               \n",
       "\n",
       "Error: subj:cond2\n",
       "          Df Sum Sq  Mean Sq F value Pr(>F)\n",
       "cond2      2 0.0087 0.004352   0.178  0.838\n",
       "Residuals 18 0.4392 0.024398               "
      ]
     },
     "metadata": {},
     "output_type": "display_data"
    },
    {
     "name": "stdout",
     "output_type": "stream",
     "text": [
      "$ANOVA\n",
      "  Effect DFn DFd         F         p p<.05        ges\n",
      "2  cond2   2  18 0.1783712 0.8380926       0.01555756\n",
      "\n",
      "$`Mauchly's Test for Sphericity`\n",
      "  Effect         W         p p<.05\n",
      "2  cond2 0.9880779 0.9531576      \n",
      "\n",
      "$`Sphericity Corrections`\n",
      "  Effect       GGe     p[GG] p[GG]<.05      HFe     p[HF] p[HF]<.05\n",
      "2  cond2 0.9882184 0.8357122           1.264626 0.8380926          \n",
      "\n"
     ]
    }
   ],
   "source": [
    "# aggregate data cross trials\n",
    "df<-aggregate(dv ~ subj+cond2, data=data_rm, FUN=mean)\n",
    "\n",
    "# aov\n",
    "res.aov <- aov(dv ~ cond2+Error(subj/cond2), data = df)\n",
    "summary(res.aov)\n",
    "\n",
    "#ez ANOVA also runs assumption tests!\n",
    "library(ez)\n",
    "anova = ezANOVA(\n",
    "data = df\n",
    ", dv = dv\n",
    ", wid = subj\n",
    ", within = cond2\n",
    ")\n",
    "print(anova)"
   ]
  },
  {
   "cell_type": "markdown",
   "metadata": {},
   "source": [
    "Two-Way ANOVA (aov & ezANOVA)"
   ]
  },
  {
   "cell_type": "code",
   "execution_count": 293,
   "metadata": {
    "collapsed": false
   },
   "outputs": [
    {
     "data": {
      "text/plain": [
       "            Df Sum Sq Mean Sq F value Pr(>F)  \n",
       "cond1        1   64.9   64.86   3.637 0.0597 .\n",
       "cond2        4   90.9   22.71   1.274 0.2862  \n",
       "cond1:cond2  4   24.3    6.09   0.341 0.8494  \n",
       "Residuals   90 1604.9   17.83                 \n",
       "---\n",
       "Signif. codes:  0 ‘***’ 0.001 ‘**’ 0.01 ‘*’ 0.05 ‘.’ 0.1 ‘ ’ 1"
      ]
     },
     "metadata": {},
     "output_type": "display_data"
    },
    {
     "name": "stderr",
     "output_type": "stream",
     "text": [
      "Coefficient covariances computed by hccm()\n"
     ]
    },
    {
     "name": "stdout",
     "output_type": "stream",
     "text": [
      "$ANOVA\n",
      "       Effect DFn DFd         F          p p<.05        ges\n",
      "1       cond1   1  90 3.6370533 0.05969645       0.03884203\n",
      "2       cond2   4  90 1.2738085 0.28619723       0.05358033\n",
      "3 cond1:cond2   4  90 0.3412858 0.84941864       0.01494162\n",
      "\n",
      "$`Levene's Test for Homogeneity of Variance`\n",
      "  DFn DFd      SSn      SSd         F         p p<.05\n",
      "1   9  90 24.96743 594.8694 0.4197128 0.9214825      \n",
      "\n"
     ]
    }
   ],
   "source": [
    "#aov\n",
    "res.aov <- aov(dv ~ cond1*cond2, data = data)\n",
    "summary(res.aov)\n",
    "\n",
    "#ez ANOVA also runs assumption tests!\n",
    "library(ez)\n",
    "anova = ezANOVA(\n",
    "data = data\n",
    ", dv = dv\n",
    ", wid = subj\n",
    ", between = c(cond1,cond2)\n",
    ")\n",
    "print(anova)"
   ]
  },
  {
   "cell_type": "markdown",
   "metadata": {},
   "source": [
    "Two-Way RM ANOVA (aov & ezANOVA)"
   ]
  },
  {
   "cell_type": "code",
   "execution_count": 295,
   "metadata": {
    "collapsed": false
   },
   "outputs": [
    {
     "data": {
      "text/plain": [
       "\n",
       "Error: subj\n",
       "          Df Sum Sq Mean Sq F value Pr(>F)\n",
       "Residuals  9 0.2232  0.0248               \n",
       "\n",
       "Error: subj:cond1\n",
       "          Df Sum Sq Mean Sq F value Pr(>F)\n",
       "cond1      1 0.0939 0.09391   1.615  0.236\n",
       "Residuals  9 0.5234 0.05816               \n",
       "\n",
       "Error: subj:cond2\n",
       "          Df Sum Sq Mean Sq F value Pr(>F)\n",
       "cond2      2 0.0174  0.0087   0.178  0.838\n",
       "Residuals 18 0.8783  0.0488               \n",
       "\n",
       "Error: subj:cond1:cond2\n",
       "            Df Sum Sq Mean Sq F value Pr(>F)\n",
       "cond1:cond2  2 0.0735 0.03676   1.524  0.245\n",
       "Residuals   18 0.4342 0.02412               "
      ]
     },
     "metadata": {},
     "output_type": "display_data"
    },
    {
     "name": "stdout",
     "output_type": "stream",
     "text": [
      "$ANOVA\n",
      "       Effect DFn DFd         F         p p<.05         ges\n",
      "2       cond1   1   9 1.6147631 0.2356857       0.043616687\n",
      "3       cond2   2  18 0.1783712 0.8380926       0.008383019\n",
      "4 cond1:cond2   2  18 1.5237421 0.2447095       0.034470955\n",
      "\n",
      "$`Mauchly's Test for Sphericity`\n",
      "       Effect         W         p p<.05\n",
      "3       cond2 0.9880779 0.9531576      \n",
      "4 cond1:cond2 0.7152789 0.2617590      \n",
      "\n",
      "$`Sphericity Corrections`\n",
      "       Effect       GGe     p[GG] p[GG]<.05       HFe     p[HF] p[HF]<.05\n",
      "3       cond2 0.9882184 0.8357122           1.2646264 0.8380926          \n",
      "4 cond1:cond2 0.7783790 0.2488603           0.9114026 0.2466335          \n",
      "\n"
     ]
    }
   ],
   "source": [
    "# aggregate data cross trials\n",
    "df<-aggregate(dv ~ subj+cond1+cond2, data=data_rm, FUN=mean)\n",
    "#count(df, c('cond1','cond2'))\n",
    "\n",
    "#aov\n",
    "res.aov <- aov(dv ~ cond1*cond2 + Error(subj/(cond1*cond2)), data = df)\n",
    "summary(res.aov)\n",
    "\n",
    "#ez ANOVA also runs assumption tests!\n",
    "library(ez)\n",
    "anova = ezANOVA(\n",
    "data = df\n",
    ", dv = dv\n",
    ", wid = subj\n",
    ", within = c(cond1,cond2)\n",
    ")\n",
    "print(anova)"
   ]
  }
 ],
 "metadata": {
  "kernelspec": {
   "display_name": "R",
   "language": "R",
   "name": "ir"
  },
  "language_info": {
   "codemirror_mode": "r",
   "file_extension": ".r",
   "mimetype": "text/x-r-source",
   "name": "R",
   "pygments_lexer": "r",
   "version": "3.5.0"
  }
 },
 "nbformat": 4,
 "nbformat_minor": 2
}
