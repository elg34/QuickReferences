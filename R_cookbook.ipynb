{
 "cells": [
  {
   "cell_type": "markdown",
   "metadata": {},
   "source": [
    "## Load File"
   ]
  },
  {
   "cell_type": "code",
   "execution_count": 39,
   "metadata": {
    "collapsed": false
   },
   "outputs": [],
   "source": [
    "# change current directory\n",
    "#setwd(\"C:/Users/Luise/Documents/jupyterprep/\")\n",
    "filename <- 'exp1_a.csv'\n",
    "data <- read.csv(filename, header = TRUE)"
   ]
  },
  {
   "cell_type": "code",
   "execution_count": 26,
   "metadata": {
    "collapsed": false
   },
   "outputs": [
    {
     "data": {
      "text/html": [
       "<table>\n",
       "<thead><tr><th></th><th scope=col>X.1</th><th scope=col>X</th><th scope=col>ppt</th><th scope=col>dv</th><th scope=col>qua</th><th scope=col>dip</th><th scope=col>dv_dp</th></tr></thead>\n",
       "<tbody>\n",
       "\t<tr><th scope=row>67</th><td> 67      </td><td> 67      </td><td> 5       </td><td>0.43     </td><td>2        </td><td>0        </td><td>1.3735688</td></tr>\n",
       "\t<tr><th scope=row>70</th><td> 70      </td><td> 70      </td><td> 5       </td><td>0.38     </td><td>3        </td><td>0        </td><td>1.3795262</td></tr>\n",
       "\t<tr><th scope=row>150</th><td>150      </td><td>150      </td><td>12       </td><td>0.18     </td><td>1        </td><td>2        </td><td>0.2722585</td></tr>\n",
       "\t<tr><th scope=row>126</th><td>126      </td><td>126      </td><td>10       </td><td>0.24     </td><td>1        </td><td>2        </td><td>0.5152248</td></tr>\n",
       "\t<tr><th scope=row>57</th><td> 57      </td><td> 57      </td><td> 4       </td><td>0.11     </td><td>2        </td><td>2        </td><td>0.1768811</td></tr>\n",
       "</tbody>\n",
       "</table>\n"
      ],
      "text/latex": [
       "\\begin{tabular}{r|lllllll}\n",
       "  & X.1 & X & ppt & dv & qua & dip & dv\\_dp\\\\\n",
       "\\hline\n",
       "\t67 &  67       &  67       &  5        & 0.43      & 2         & 0         & 1.3735688\\\\\n",
       "\t70 &  70       &  70       &  5        & 0.38      & 3         & 0         & 1.3795262\\\\\n",
       "\t150 & 150       & 150       & 12        & 0.18      & 1         & 2         & 0.2722585\\\\\n",
       "\t126 & 126       & 126       & 10        & 0.24      & 1         & 2         & 0.5152248\\\\\n",
       "\t57 &  57       &  57       &  4        & 0.11      & 2         & 2         & 0.1768811\\\\\n",
       "\\end{tabular}\n"
      ],
      "text/markdown": [
       "\n",
       "| <!--/--> | X.1 | X | ppt | dv | qua | dip | dv_dp | \n",
       "|---|---|---|---|---|\n",
       "| 67 |  67       |  67       |  5        | 0.43      | 2         | 0         | 1.3735688 | \n",
       "| 70 |  70       |  70       |  5        | 0.38      | 3         | 0         | 1.3795262 | \n",
       "| 150 | 150       | 150       | 12        | 0.18      | 1         | 2         | 0.2722585 | \n",
       "| 126 | 126       | 126       | 10        | 0.24      | 1         | 2         | 0.5152248 | \n",
       "| 57 |  57       |  57       |  4        | 0.11      | 2         | 2         | 0.1768811 | \n",
       "\n",
       "\n"
      ],
      "text/plain": [
       "    X.1 X   ppt dv   qua dip dv_dp    \n",
       "67   67  67  5  0.43 2   0   1.3735688\n",
       "70   70  70  5  0.38 3   0   1.3795262\n",
       "150 150 150 12  0.18 1   2   0.2722585\n",
       "126 126 126 10  0.24 1   2   0.5152248\n",
       "57   57  57  4  0.11 2   2   0.1768811"
      ]
     },
     "metadata": {},
     "output_type": "display_data"
    }
   ],
   "source": [
    "library(dplyr)\n",
    "sample_n(data, 5)"
   ]
  },
  {
   "cell_type": "markdown",
   "metadata": {},
   "source": [
    "## Missing Values"
   ]
  },
  {
   "cell_type": "code",
   "execution_count": 31,
   "metadata": {
    "collapsed": false
   },
   "outputs": [
    {
     "data": {
      "text/html": [
       "<table>\n",
       "<thead><tr><th></th><th scope=col>na_count</th></tr></thead>\n",
       "<tbody>\n",
       "\t<tr><th scope=row>X.1</th><td>0</td></tr>\n",
       "\t<tr><th scope=row>X</th><td>0</td></tr>\n",
       "\t<tr><th scope=row>ppt</th><td>0</td></tr>\n",
       "\t<tr><th scope=row>dv</th><td>0</td></tr>\n",
       "\t<tr><th scope=row>qua</th><td>0</td></tr>\n",
       "\t<tr><th scope=row>dip</th><td>0</td></tr>\n",
       "\t<tr><th scope=row>dv_dp</th><td>0</td></tr>\n",
       "</tbody>\n",
       "</table>\n"
      ],
      "text/latex": [
       "\\begin{tabular}{r|l}\n",
       "  & na\\_count\\\\\n",
       "\\hline\n",
       "\tX.1 & 0\\\\\n",
       "\tX & 0\\\\\n",
       "\tppt & 0\\\\\n",
       "\tdv & 0\\\\\n",
       "\tqua & 0\\\\\n",
       "\tdip & 0\\\\\n",
       "\tdv\\_dp & 0\\\\\n",
       "\\end{tabular}\n"
      ],
      "text/markdown": [
       "\n",
       "| <!--/--> | na_count | \n",
       "|---|---|---|---|---|---|---|\n",
       "| X.1 | 0 | \n",
       "| X | 0 | \n",
       "| ppt | 0 | \n",
       "| dv | 0 | \n",
       "| qua | 0 | \n",
       "| dip | 0 | \n",
       "| dv_dp | 0 | \n",
       "\n",
       "\n"
      ],
      "text/plain": [
       "      na_count\n",
       "X.1   0       \n",
       "X     0       \n",
       "ppt   0       \n",
       "dv    0       \n",
       "qua   0       \n",
       "dip   0       \n",
       "dv_dp 0       "
      ]
     },
     "metadata": {},
     "output_type": "display_data"
    }
   ],
   "source": [
    "# how many missing values for the different columns?\n",
    "na <-sapply(data, function(x) sum(length(which(is.na(x)))))\n",
    "na <- data.frame(na_count)\n",
    "    na"
   ]
  },
  {
   "cell_type": "code",
   "execution_count": 33,
   "metadata": {
    "collapsed": false
   },
   "outputs": [],
   "source": [
    "# remove all the rows that contain a missing value\n",
    "data_na<-data[complete.cases(data), ]"
   ]
  },
  {
   "cell_type": "code",
   "execution_count": 41,
   "metadata": {
    "collapsed": false
   },
   "outputs": [],
   "source": [
    "# remove all columns with at least one missing value\n",
    "data_na<-data[,!apply(is.na(data), 2, any)]"
   ]
  },
  {
   "cell_type": "code",
   "execution_count": 60,
   "metadata": {
    "collapsed": false
   },
   "outputs": [],
   "source": [
    "# replace NA with 0\n",
    "data_na <- data\n",
    "data_na[is.na(data_na)] <- 0"
   ]
  },
  {
   "cell_type": "code",
   "execution_count": 75,
   "metadata": {
    "collapsed": false
   },
   "outputs": [],
   "source": [
    "# fill NA with column mean\n",
    "data_na <- data\n",
    "for(i in 1:ncol(data)){\n",
    "  data_na[is.na(data_na[,i]), i] <- mean(data_na[,i], na.rm = TRUE)\n",
    "}"
   ]
  },
  {
   "cell_type": "markdown",
   "metadata": {},
   "source": [
    "## Aggregate, apply, sapply, etc etc"
   ]
  },
  {
   "cell_type": "code",
   "execution_count": 81,
   "metadata": {
    "collapsed": false
   },
   "outputs": [
    {
     "data": {
      "text/html": [
       "<table>\n",
       "<thead><tr><th scope=col>Group.1</th><th scope=col>X.1</th><th scope=col>X</th><th scope=col>ppt</th><th scope=col>dv</th><th scope=col>qua</th><th scope=col>dip</th><th scope=col>dv_dp</th></tr></thead>\n",
       "<tbody>\n",
       "\t<tr><td> 0       </td><td>  6.5    </td><td>  6.5    </td><td> 0       </td><td>0.2712500</td><td>1.5      </td><td>1        </td><td>0.5906750</td></tr>\n",
       "\t<tr><td> 1       </td><td> 18.5    </td><td> 18.5    </td><td> 1       </td><td>0.3791667</td><td>1.5      </td><td>1        </td><td>0.9778913</td></tr>\n",
       "\t<tr><td> 2       </td><td> 30.5    </td><td> 30.5    </td><td> 2       </td><td>0.4616667</td><td>1.5      </td><td>1        </td><td>1.2720477</td></tr>\n",
       "\t<tr><td> 3       </td><td> 42.5    </td><td> 42.5    </td><td> 3       </td><td>0.4750000</td><td>1.5      </td><td>1        </td><td>1.3275975</td></tr>\n",
       "\t<tr><td> 4       </td><td> 54.5    </td><td> 54.5    </td><td> 4       </td><td>0.3672917</td><td>1.5      </td><td>1        </td><td>0.9368048</td></tr>\n",
       "\t<tr><td> 5       </td><td> 66.5    </td><td> 66.5    </td><td> 5       </td><td>0.4375000</td><td>1.5      </td><td>1        </td><td>1.1995430</td></tr>\n",
       "\t<tr><td> 6       </td><td> 78.5    </td><td> 78.5    </td><td> 6       </td><td>0.4275000</td><td>1.5      </td><td>1        </td><td>1.1585790</td></tr>\n",
       "\t<tr><td> 7       </td><td> 90.5    </td><td> 90.5    </td><td> 7       </td><td>0.5083333</td><td>1.5      </td><td>1        </td><td>1.4823747</td></tr>\n",
       "\t<tr><td> 8       </td><td>102.5    </td><td>102.5    </td><td> 8       </td><td>0.2216667</td><td>1.5      </td><td>1        </td><td>0.4315567</td></tr>\n",
       "\t<tr><td> 9       </td><td>114.5    </td><td>114.5    </td><td> 9       </td><td>0.3616667</td><td>1.5      </td><td>1        </td><td>0.9146122</td></tr>\n",
       "\t<tr><td>10       </td><td>126.5    </td><td>126.5    </td><td>10       </td><td>0.4041667</td><td>1.5      </td><td>1        </td><td>1.0838472</td></tr>\n",
       "\t<tr><td>11       </td><td>138.5    </td><td>138.5    </td><td>11       </td><td>0.3716667</td><td>1.5      </td><td>1        </td><td>0.9640160</td></tr>\n",
       "\t<tr><td>12       </td><td>150.5    </td><td>150.5    </td><td>12       </td><td>0.3058333</td><td>1.5      </td><td>1        </td><td>0.7208004</td></tr>\n",
       "</tbody>\n",
       "</table>\n"
      ],
      "text/latex": [
       "\\begin{tabular}{r|llllllll}\n",
       " Group.1 & X.1 & X & ppt & dv & qua & dip & dv\\_dp\\\\\n",
       "\\hline\n",
       "\t  0        &   6.5     &   6.5     &  0        & 0.2712500 & 1.5       & 1         & 0.5906750\\\\\n",
       "\t  1        &  18.5     &  18.5     &  1        & 0.3791667 & 1.5       & 1         & 0.9778913\\\\\n",
       "\t  2        &  30.5     &  30.5     &  2        & 0.4616667 & 1.5       & 1         & 1.2720477\\\\\n",
       "\t  3        &  42.5     &  42.5     &  3        & 0.4750000 & 1.5       & 1         & 1.3275975\\\\\n",
       "\t  4        &  54.5     &  54.5     &  4        & 0.3672917 & 1.5       & 1         & 0.9368048\\\\\n",
       "\t  5        &  66.5     &  66.5     &  5        & 0.4375000 & 1.5       & 1         & 1.1995430\\\\\n",
       "\t  6        &  78.5     &  78.5     &  6        & 0.4275000 & 1.5       & 1         & 1.1585790\\\\\n",
       "\t  7        &  90.5     &  90.5     &  7        & 0.5083333 & 1.5       & 1         & 1.4823747\\\\\n",
       "\t  8        & 102.5     & 102.5     &  8        & 0.2216667 & 1.5       & 1         & 0.4315567\\\\\n",
       "\t  9        & 114.5     & 114.5     &  9        & 0.3616667 & 1.5       & 1         & 0.9146122\\\\\n",
       "\t 10        & 126.5     & 126.5     & 10        & 0.4041667 & 1.5       & 1         & 1.0838472\\\\\n",
       "\t 11        & 138.5     & 138.5     & 11        & 0.3716667 & 1.5       & 1         & 0.9640160\\\\\n",
       "\t 12        & 150.5     & 150.5     & 12        & 0.3058333 & 1.5       & 1         & 0.7208004\\\\\n",
       "\\end{tabular}\n"
      ],
      "text/markdown": [
       "\n",
       "Group.1 | X.1 | X | ppt | dv | qua | dip | dv_dp | \n",
       "|---|---|---|---|---|---|---|---|---|---|---|---|---|\n",
       "|  0        |   6.5     |   6.5     |  0        | 0.2712500 | 1.5       | 1         | 0.5906750 | \n",
       "|  1        |  18.5     |  18.5     |  1        | 0.3791667 | 1.5       | 1         | 0.9778913 | \n",
       "|  2        |  30.5     |  30.5     |  2        | 0.4616667 | 1.5       | 1         | 1.2720477 | \n",
       "|  3        |  42.5     |  42.5     |  3        | 0.4750000 | 1.5       | 1         | 1.3275975 | \n",
       "|  4        |  54.5     |  54.5     |  4        | 0.3672917 | 1.5       | 1         | 0.9368048 | \n",
       "|  5        |  66.5     |  66.5     |  5        | 0.4375000 | 1.5       | 1         | 1.1995430 | \n",
       "|  6        |  78.5     |  78.5     |  6        | 0.4275000 | 1.5       | 1         | 1.1585790 | \n",
       "|  7        |  90.5     |  90.5     |  7        | 0.5083333 | 1.5       | 1         | 1.4823747 | \n",
       "|  8        | 102.5     | 102.5     |  8        | 0.2216667 | 1.5       | 1         | 0.4315567 | \n",
       "|  9        | 114.5     | 114.5     |  9        | 0.3616667 | 1.5       | 1         | 0.9146122 | \n",
       "| 10        | 126.5     | 126.5     | 10        | 0.4041667 | 1.5       | 1         | 1.0838472 | \n",
       "| 11        | 138.5     | 138.5     | 11        | 0.3716667 | 1.5       | 1         | 0.9640160 | \n",
       "| 12        | 150.5     | 150.5     | 12        | 0.3058333 | 1.5       | 1         | 0.7208004 | \n",
       "\n",
       "\n"
      ],
      "text/plain": [
       "   Group.1 X.1   X     ppt dv        qua dip dv_dp    \n",
       "1   0        6.5   6.5  0  0.2712500 1.5 1   0.5906750\n",
       "2   1       18.5  18.5  1  0.3791667 1.5 1   0.9778913\n",
       "3   2       30.5  30.5  2  0.4616667 1.5 1   1.2720477\n",
       "4   3       42.5  42.5  3  0.4750000 1.5 1   1.3275975\n",
       "5   4       54.5  54.5  4  0.3672917 1.5 1   0.9368048\n",
       "6   5       66.5  66.5  5  0.4375000 1.5 1   1.1995430\n",
       "7   6       78.5  78.5  6  0.4275000 1.5 1   1.1585790\n",
       "8   7       90.5  90.5  7  0.5083333 1.5 1   1.4823747\n",
       "9   8      102.5 102.5  8  0.2216667 1.5 1   0.4315567\n",
       "10  9      114.5 114.5  9  0.3616667 1.5 1   0.9146122\n",
       "11 10      126.5 126.5 10  0.4041667 1.5 1   1.0838472\n",
       "12 11      138.5 138.5 11  0.3716667 1.5 1   0.9640160\n",
       "13 12      150.5 150.5 12  0.3058333 1.5 1   0.7208004"
      ]
     },
     "metadata": {},
     "output_type": "display_data"
    }
   ],
   "source": [
    "aggregate(data, by=list(data$ppt), mean,simplify = TRUE)\n",
    "#aggregate(data, by=list(data$dip,data$qua,data$ppt), mean,simplify = TRUE)"
   ]
  },
  {
   "cell_type": "markdown",
   "metadata": {},
   "source": [
    "## Misc."
   ]
  },
  {
   "cell_type": "code",
   "execution_count": null,
   "metadata": {
    "collapsed": true
   },
   "outputs": [],
   "source": [
    "# clear workspace\n",
    "rm(list = ls())\n"
   ]
  }
 ],
 "metadata": {
  "kernelspec": {
   "display_name": "R",
   "language": "R",
   "name": "ir"
  },
  "language_info": {
   "codemirror_mode": "r",
   "file_extension": ".r",
   "mimetype": "text/x-r-source",
   "name": "R",
   "pygments_lexer": "r",
   "version": "3.4.1"
  }
 },
 "nbformat": 4,
 "nbformat_minor": 2
}
